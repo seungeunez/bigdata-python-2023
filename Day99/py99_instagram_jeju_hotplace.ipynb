{
 "cells": [
  {
   "attachments": {},
   "cell_type": "markdown",
   "metadata": {},
   "source": [
    "#### 제주도 핫플레이스 인스타그램에서 크롤링하기\n",
    "\n",
    "##### matplotlib 한글설정\n",
    "\n",
    "##### 셀레니움 설정"
   ]
  },
  {
   "cell_type": "code",
   "execution_count": 8,
   "metadata": {},
   "outputs": [],
   "source": [
    "import matplotlib\n",
    "# from matplotlib import pyplot as plt\n",
    "import matplotlib.pyplot as plt\n",
    "from matplotlib import font_manager, rc, rcParams\n",
    "import seaborn as sns\n",
    "\n",
    "font_path = 'C:/Windows/Fonts/NanumGothic.ttf'\n",
    "font = font_manager.FontProperties(fname=font_path).get_name() # 'NanumGothic'\n",
    "rc('font', family=font)\n",
    "rcParams['axes.unicode_minus'] = False "
   ]
  },
  {
   "cell_type": "code",
   "execution_count": 10,
   "metadata": {},
   "outputs": [],
   "source": [
    "# 셀레니움\n",
    "# 모듈 임포트\n",
    "from selenium import webdriver\n",
    "\n",
    "driver = webdriver.Chrome()\n",
    "url = 'https://www.instagram.com/explore/tags/%EC%A0%9C%EC%A3%BC%EB%8F%84%EB%A7%9B%EC%A7%91/'\n",
    "driver.get(url)"
   ]
  },
  {
   "attachments": {},
   "cell_type": "markdown",
   "metadata": {},
   "source": [
    "##### 첫번째 게시글 찾아서 클릭하기\n"
   ]
  },
  {
   "cell_type": "code",
   "execution_count": 11,
   "metadata": {},
   "outputs": [],
   "source": [
    "from selenium.webdriver.common.by import By\n",
    "import time\n",
    "\n",
    "def select_first_post(driver):\n",
    "    first = driver.find_elements(By.CLASS_NAME, '_aagw')[0]\n",
    "    first.click()\n",
    "    time.sleep(3)\n",
    "\n",
    "select_first_post(driver)"
   ]
  },
  {
   "attachments": {},
   "cell_type": "markdown",
   "metadata": {},
   "source": [
    "##### 게시글 정보 가져오기"
   ]
  },
  {
   "cell_type": "code",
   "execution_count": 12,
   "metadata": {},
   "outputs": [
    {
     "data": {
      "text/plain": [
       "['mou__9.New arrival🌿[Outf 프리미엄 마레 맨투맨]과하지 않은 오버핏으로 멋스러워요.흔하지 않은 실루엣과 숨은 디테일 부자ㅎ유연한 소재감으로 착용 시 편안해요.맨투맨이지만 고급스러운 느낌.소매를 들면 보이는 구조라 이너를 신경써야 하지만팔도 얇아 보이고 길어 보여요^^컬러별 소장템이예요., 속닥속닥😆Fabric.cottonColor.아이보리 그레이 베이지 소라 블랙Size.총장50 가슴69 암홀20☑️스토어팜 최상단에 전체 상품[신상품순] 카테고리를 클릭하시면,새로 업데이트 된 신상품들을 한눈에 보실 수 있어요.또는 검색창에 상품명 중 한 단어를 검색하시면 제품을 쉽게 찾으실 수 있어요!.수정됨\\xa0·\\xa01일',\n",
       " '2023-06-29',\n",
       " 54,\n",
       " '',\n",
       " []]"
      ]
     },
     "execution_count": 12,
     "metadata": {},
     "output_type": "execute_result"
    }
   ],
   "source": [
    "import re # RegularExpression 정규식 처리 모듈\n",
    "from bs4 import BeautifulSoup\n",
    "import unicodedata  # 유니코드 데이터 처리 모듈\n",
    "\n",
    "def get_content(driver):\n",
    "    # 1. 데이터가져오기\n",
    "    html = driver.page_source\n",
    "    soup = BeautifulSoup(html, 'html.parser')\n",
    "\n",
    "    # 2. 본문내용 찾아오기\n",
    "    try:\n",
    "        content = soup.select('div._a9zr')[0].text   # _a9zr은 추후 변경됨(인스타그램 정책)\n",
    "    except:\n",
    "        content = ''\n",
    "\n",
    "    # 3. 본문내용에서 해시태그 가져오기(정규식 활용)\n",
    "    tags = re.findall(r'#[^\\s#,\\\\]+', content)\n",
    "\n",
    "    # 4. 작성일자 정보\n",
    "    try:\n",
    "        date = soup.select('time._aaqe')[0]['datetime'][:10] # _aaqe은 추후 변경됨(인스타그램 정책)\n",
    "    except:\n",
    "        date = ''\n",
    "\n",
    "    # 5. 좋아요수 가져오기\n",
    "    try:\n",
    "        # x193iq5w등은 추후 변경됨(인스타그램 정책)\n",
    "        like = int(soup.select('span.x193iq5w.xeuugli.x1fj9vlw.x13faqbe.x1vvkbs.xt0psk2.x1i0vuye.xvs91rp > span')[0].text)\n",
    "    except:\n",
    "        like = 0\n",
    "\n",
    "    # 6. 위치정보\n",
    "    # 정규식 학습필수\n",
    "    # _aagv 마지막 인덱스를 찾으면 된다\n",
    "    # imgs = soup.select('div._aatk._aatl._aatm div._aagv > img')[0]['alt']\n",
    "    address = ''\n",
    "    try:\n",
    "        regex = r'(\\w+[시,읍]\\s*)?' \\\n",
    "                r'?(\\w+\\d*\\w*[로,리,길]\\s*)' \\\n",
    "                r'?(\\w*\\d+-?\\d*)?'\n",
    "\n",
    "        place = re.findall(regex, content)\n",
    "        for pl in place:\n",
    "            if pl[0] != '' and pl[1] != '' and pl[2] != '':\n",
    "                address = f'{pl[0]}{pl[1]}{pl[2]}'\n",
    "    except:\n",
    "        address = ''\n",
    "\n",
    "    # 7. 정보 저장\n",
    "    data = [content, date, like, address, tags]\n",
    "    return data\n",
    "\n",
    "get_content(driver)\n"
   ]
  },
  {
   "attachments": {},
   "cell_type": "markdown",
   "metadata": {},
   "source": [
    "##### 다음 게시글 열기"
   ]
  },
  {
   "cell_type": "code",
   "execution_count": 13,
   "metadata": {},
   "outputs": [],
   "source": [
    "def move_next(driver):\n",
    "    right = driver.find_element(By.CSS_SELECTOR, ('._aaqg._aaqh'))\n",
    "    right.find_element(By.XPATH, '//button')\n",
    "    right.click()\n",
    "    time.sleep(3)\n",
    "\n",
    "move_next(driver)"
   ]
  },
  {
   "attachments": {},
   "cell_type": "markdown",
   "metadata": {},
   "source": [
    "##### 자동 크롤링 구현"
   ]
  },
  {
   "cell_type": "code",
   "execution_count": 14,
   "metadata": {},
   "outputs": [],
   "source": [
    "# 모듈 임포트 생략\n",
    "\n",
    "driver = webdriver.Chrome()\n",
    "driver.get('https://www.instagram.com')\n",
    "time.sleep(2.0)"
   ]
  },
  {
   "cell_type": "code",
   "execution_count": 15,
   "metadata": {},
   "outputs": [],
   "source": [
    "# 아이디, 패스워드 입력해서 자동 로그인하기\n",
    "id = 'personar95@gmail.com'\n",
    "input_id = driver.find_elements(By.CSS_SELECTOR, '._aa4b._add6._ac4d')[0]\n",
    "input_id.clear()\n",
    "input_id.send_keys(id)\n",
    "password = '9876543210'\n",
    "input_pw = driver.find_elements(By.CSS_SELECTOR, '._aa4b._add6._ac4d')[1]\n",
    "input_pw.clear()\n",
    "input_pw.send_keys(password)\n",
    "input_pw.submit()\n",
    "time.sleep(2.0)"
   ]
  },
  {
   "cell_type": "code",
   "execution_count": 16,
   "metadata": {},
   "outputs": [],
   "source": [
    "# 알림설정 버튼 클릭\n",
    "alarm_btn = driver.find_element(By.CSS_SELECTOR, '._a9--._a9_0')\n",
    "alarm_btn.click()"
   ]
  },
  {
   "cell_type": "code",
   "execution_count": 17,
   "metadata": {},
   "outputs": [],
   "source": [
    "# 제주도맛집 찾기 함수\n",
    "def insta_searching(word):\n",
    "    url = f'https://www.instagram.com/explore/tags/{word}'\n",
    "    return url"
   ]
  },
  {
   "cell_type": "code",
   "execution_count": 18,
   "metadata": {},
   "outputs": [
    {
     "name": "stdout",
     "output_type": "stream",
     "text": [
      "1\n",
      "2\n",
      "3\n",
      "3\n"
     ]
    }
   ],
   "source": [
    "# 크롤링 시작하기\n",
    "word = '제주도맛집'\n",
    "url = insta_searching(word)\n",
    "driver.get(url)\n",
    "time.sleep(10.0)\n",
    "\n",
    "select_first_post(driver)\n",
    "\n",
    "results = []\n",
    "\n",
    "target = 3\n",
    "count = 0\n",
    "for i in range(target):\n",
    "    count += 1\n",
    "    try:\n",
    "        data = get_content(driver)\n",
    "        results.append(data)\n",
    "        move_next(driver)\n",
    "    except:\n",
    "        time.sleep(2.0)\n",
    "        move_next(driver)\n",
    "    print(count)\n",
    "\n",
    "print(len(results))"
   ]
  },
  {
   "cell_type": "code",
   "execution_count": 19,
   "metadata": {},
   "outputs": [
    {
     "data": {
      "text/html": [
       "<div>\n",
       "<style scoped>\n",
       "    .dataframe tbody tr th:only-of-type {\n",
       "        vertical-align: middle;\n",
       "    }\n",
       "\n",
       "    .dataframe tbody tr th {\n",
       "        vertical-align: top;\n",
       "    }\n",
       "\n",
       "    .dataframe thead th {\n",
       "        text-align: right;\n",
       "    }\n",
       "</style>\n",
       "<table border=\"1\" class=\"dataframe\">\n",
       "  <thead>\n",
       "    <tr style=\"text-align: right;\">\n",
       "      <th></th>\n",
       "      <th>0</th>\n",
       "      <th>1</th>\n",
       "      <th>2</th>\n",
       "      <th>3</th>\n",
       "      <th>4</th>\n",
       "    </tr>\n",
       "  </thead>\n",
       "  <tbody>\n",
       "    <tr>\n",
       "      <th>0</th>\n",
       "      <td>er.__bet._trap(광고)제주도에서 쓰끼다시가 가장 잘나오고 서귀포에서 오션...</td>\n",
       "      <td>2023-06-30</td>\n",
       "      <td>0</td>\n",
       "      <td>서귀포시 대포로 16111</td>\n",
       "      <td>[#서귀포맛집, #제주중문맛집, #서귀포횟집, #중문횟집, #제주도횟집, #중문맛집...</td>\n",
       "    </tr>\n",
       "    <tr>\n",
       "      <th>1</th>\n",
       "      <td>happi_yyyyy여기 가려고 비행기 티켓 당장 끊을 만한 곳✈️#내돈내산 #수미...</td>\n",
       "      <td>2023-06-27</td>\n",
       "      <td>985</td>\n",
       "      <td>구좌읍 구좌해안로 35</td>\n",
       "      <td>[#내돈내산, #수미언니_제주제주에서, #동복해녀잠수촌, #회국수, #해산물, #제...</td>\n",
       "    </tr>\n",
       "    <tr>\n",
       "      <th>2</th>\n",
       "      <td>mou__9.New arrival🌿[Outf 프리미엄 마레 맨투맨]과하지 않은 오버...</td>\n",
       "      <td>2023-06-29</td>\n",
       "      <td>54</td>\n",
       "      <td></td>\n",
       "      <td>[]</td>\n",
       "    </tr>\n",
       "  </tbody>\n",
       "</table>\n",
       "</div>"
      ],
      "text/plain": [
       "                                                   0           1    2  \\\n",
       "0  er.__bet._trap(광고)제주도에서 쓰끼다시가 가장 잘나오고 서귀포에서 오션...  2023-06-30    0   \n",
       "1  happi_yyyyy여기 가려고 비행기 티켓 당장 끊을 만한 곳✈️#내돈내산 #수미...  2023-06-27  985   \n",
       "2  mou__9.New arrival🌿[Outf 프리미엄 마레 맨투맨]과하지 않은 오버...  2023-06-29   54   \n",
       "\n",
       "                3                                                  4  \n",
       "0  서귀포시 대포로 16111  [#서귀포맛집, #제주중문맛집, #서귀포횟집, #중문횟집, #제주도횟집, #중문맛집...  \n",
       "1    구좌읍 구좌해안로 35  [#내돈내산, #수미언니_제주제주에서, #동복해녀잠수촌, #회국수, #해산물, #제...  \n",
       "2                                                                 []  "
      ]
     },
     "execution_count": 19,
     "metadata": {},
     "output_type": "execute_result"
    }
   ],
   "source": [
    "import pandas as pd\n",
    "df = pd.DataFrame(results)\n",
    "df"
   ]
  },
  {
   "cell_type": "code",
   "execution_count": 63,
   "metadata": {},
   "outputs": [
    {
     "name": "stdout",
     "output_type": "stream",
     "text": [
      "064-799-9229 (328, 340)\n"
     ]
    },
    {
     "data": {
      "text/plain": [
       "'애월읍 애월해안로 97'"
      ]
     },
     "execution_count": 63,
     "metadata": {},
     "output_type": "execute_result"
    }
   ],
   "source": [
    "## 방법찾음!!\n",
    "import re\n",
    "\n",
    "# 다시테스트\n",
    "# 1. 데이터가져오기\n",
    "html = driver.page_source\n",
    "soup = BeautifulSoup(html, 'html.parser')\n",
    "\n",
    "# 2. 본문내용 찾아오기\n",
    "try:\n",
    "    # content = soup.select('div._a9zr')[0].text 원본\n",
    "    content = soup.select('div._a9zr')[0].get_text(separator='|')  # _a9zr은 추후 변경됨(인스타그램 정책)\n",
    "except:\n",
    "    content = ''\n",
    "\n",
    "# 3. 본문내용에서 해시태그 가져오기(정규식 활용)\n",
    "tags = re.findall(r'#[^\\s#,\\\\]+', content)\n",
    "\n",
    "# 4. 작성일자 정보\n",
    "try:\n",
    "    date = soup.select('time._aaqe')[0]['datetime'][:10] # _aaqe은 추후 변경됨(인스타그램 정책)\n",
    "except:\n",
    "    date = ''\n",
    "\n",
    "# 5. 좋아요수 가져오기\n",
    "try:\n",
    "    # x193iq5w등은 추후 변경됨(인스타그램 정책)\n",
    "    like = int(soup.select('span.x193iq5w.xeuugli.x1fj9vlw.x13faqbe.x1vvkbs.xt0psk2.x1i0vuye.xvs91rp > span')[0].text)\n",
    "except:\n",
    "    like = 0\n",
    "\n",
    "# 6. 위치정보\n",
    "# 정규식 학습필수\n",
    "# _aagv 마지막 인덱스를 찾으면 된다\n",
    "# imgs = soup.select('div._aatk._aatl._aatm div._aagv > img')[0]['alt']\n",
    "address = ''\n",
    "try:\n",
    "    regex = r'(\\w+[시,읍]\\s*)?' \\\n",
    "            r'?(\\w+\\d*\\w*[로,리,길]\\s*)' \\\n",
    "            r'?(\\w*\\d+-?\\d*)?'\n",
    "\n",
    "    place = re.findall(regex, content)\n",
    "    for pl in place:\n",
    "        if pl[0] != '' and pl[1] != '' and pl[2] != '':\n",
    "            address = f'{pl[0]}{pl[1]}{pl[2]}'\n",
    "except:\n",
    "    address = ''\n",
    "\n",
    "# 7. 정보 저장\n",
    "temp = soup.select('div._a9zr')[0].get_text(separator='|')\n",
    "\n",
    "phone_number_list = re.compile('\\d{2,3}-\\d{3,4}-\\d{4}').finditer(temp)\n",
    "for phone_number in phone_number_list: # 전화번호와 인덱스를 출력한다.\n",
    "\tprint(phone_number.group(), phone_number.span())    \n",
    " \n",
    "address"
   ]
  },
  {
   "cell_type": "code",
   "execution_count": 206,
   "metadata": {},
   "outputs": [],
   "source": [
    "import pandas as pd\n",
    "\n",
    "results_df = pd.DataFrame(results)\n",
    "results_df.columns = ['content','data','like','place','tags']\n",
    "results_df.to_excel('./1_crawling_jejudoHotplaces.xlsx', index=False)"
   ]
  }
 ],
 "metadata": {
  "kernelspec": {
   "display_name": "Python 3",
   "language": "python",
   "name": "python3"
  },
  "language_info": {
   "codemirror_mode": {
    "name": "ipython",
    "version": 3
   },
   "file_extension": ".py",
   "mimetype": "text/x-python",
   "name": "python",
   "nbconvert_exporter": "python",
   "pygments_lexer": "ipython3",
   "version": "3.11.4 (tags/v3.11.4:d2340ef, Jun  7 2023, 05:45:37) [MSC v.1934 64 bit (AMD64)]"
  },
  "orig_nbformat": 4,
  "vscode": {
   "interpreter": {
    "hash": "5238573367df39f7286bb46f9ff5f08f63a01a80960060ce41e3c79b190280fa"
   }
  }
 },
 "nbformat": 4,
 "nbformat_minor": 2
}
