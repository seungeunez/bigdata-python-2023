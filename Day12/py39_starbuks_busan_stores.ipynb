{
 "cells": [
  {
   "attachments": {},
   "cell_type": "markdown",
   "metadata": {},
   "source": [
    "#### 스타벅스 부산시 매장위치 크롤링\n",
    "\n",
    "##### 스타벅스 웹사이트\n",
    "- https://www.starbucks.co.kr/index.do \n",
    "\n",
    "##### 셀레니움 등 라이브러 임포트"
   ]
  },
  {
   "cell_type": "code",
   "execution_count": 1,
   "metadata": {},
   "outputs": [
    {
     "name": "stderr",
     "output_type": "stream",
     "text": [
      "C:\\Users\\Administrator\\AppData\\Local\\Temp\\ipykernel_10396\\3272571517.py:5: TqdmWarning: IProgress not found. Please update jupyter and ipywidgets. See https://ipywidgets.readthedocs.io/en/stable/user_install.html\n",
      "  from tqdm.autonotebook import tqdm\n"
     ]
    }
   ],
   "source": [
    "from selenium import webdriver\n",
    "from selenium.webdriver.common.by import By\n",
    "from bs4 import BeautifulSoup\n",
    "import pandas as pd\n",
    "from tqdm.autonotebook import tqdm"
   ]
  },
  {
   "cell_type": "code",
   "execution_count": 2,
   "metadata": {},
   "outputs": [],
   "source": [
    "# 크롬 웹드라이버 실행\n",
    "driver = webdriver.Chrome()\n",
    "url = 'https://www.starbucks.co.kr/store/store_map.do?disp=locale'\n",
    "driver.get(url)"
   ]
  },
  {
   "cell_type": "code",
   "execution_count": 3,
   "metadata": {},
   "outputs": [],
   "source": [
    "# 웹드라이버 선택할 위치값 작성(20년 8월과 동일)\n",
    "btn_busan = '#container > div > form > fieldset > div > section > article.find_store_cont > ' + \\\n",
    "            'article > article:nth-child(4) > div.loca_step1 > div.loca_step1_cont > ul > ' + \\\n",
    "            'li:nth-child(6) > a'\n",
    "driver.find_element(By.CSS_SELECTOR, btn_busan).click()"
   ]
  },
  {
   "cell_type": "code",
   "execution_count": 4,
   "metadata": {},
   "outputs": [],
   "source": [
    "# 부산 선택된 상태\n",
    "# '전체' 클릭\n",
    "btn_all = '#mCSB_2_container > ul > li > a' # 첫번째 값이기 때문에 nth-child 도 필요없음\n",
    "driver.find_element(By.CSS_SELECTOR, btn_all).click()"
   ]
  },
  {
   "cell_type": "code",
   "execution_count": 5,
   "metadata": {},
   "outputs": [],
   "source": [
    "# 스타벅스는 한화면에 전부 리스트업되기때문에 함수를 만들필요도 없음\n",
    "html = driver.page_source\n",
    "soup = BeautifulSoup(html, 'html.parser')"
   ]
  },
  {
   "cell_type": "code",
   "execution_count": null,
   "metadata": {},
   "outputs": [],
   "source": [
    "soup"
   ]
  },
  {
   "cell_type": "code",
   "execution_count": 6,
   "metadata": {},
   "outputs": [
    {
     "data": {
      "text/plain": [
       "137"
      ]
     },
     "execution_count": 6,
     "metadata": {},
     "output_type": "execute_result"
    }
   ],
   "source": [
    "# 검색결과 위치 \n",
    "starbuks_soup_list = soup.select('li.quickResultLstCon')\n",
    "len(starbuks_soup_list)"
   ]
  },
  {
   "cell_type": "code",
   "execution_count": 7,
   "metadata": {},
   "outputs": [
    {
     "data": {
      "text/plain": [
       "<li class=\"quickResultLstCon\" data-code=\"3705\" data-hlytag=\"null\" data-index=\"0\" data-lat=\"35.262466\" data-long=\"129.091353\" data-name=\"금정남산동DT\" data-storecd=\"1605\" style=\"background:#fff\"> <strong data-my_siren_order_store_yn=\"N\" data-name=\"금정남산동DT\" data-store=\"1605\" data-yn=\"N\">금정남산동DT  </strong> <p class=\"result_details\">부산광역시 금정구 중앙대로 1989 (남산동)<br/>1522-3232</p> <i class=\"pin_generalDT\">리저브 매장 2번</i></li>"
      ]
     },
     "execution_count": 7,
     "metadata": {},
     "output_type": "execute_result"
    }
   ],
   "source": [
    "starbuks_soup_list[0]"
   ]
  },
  {
   "cell_type": "code",
   "execution_count": 8,
   "metadata": {},
   "outputs": [
    {
     "name": "stdout",
     "output_type": "stream",
     "text": [
      "금정남산동DT\n",
      "35.262466 / 129.091353\n",
      "generalDT\n",
      "부산광역시 금정구 중앙대로 1989 (남산동)\n"
     ]
    }
   ],
   "source": [
    "# 매장정보 확인\n",
    "starbuks_store = starbuks_soup_list[0]\n",
    "name = starbuks_store.select('strong')[0].text.strip()\n",
    "lat = starbuks_store['data-lat'].strip()\n",
    "lng = starbuks_store['data-long'].strip()\n",
    "store_type = starbuks_store.select('i')[0]['class'][0].split('_')[1] # _로 자르면 두번째값이 general/reserve\n",
    "address = starbuks_store.select('p')[0].get_text(separator='|').split('|')[0]\n",
    "\n",
    "print(name) # 매장명\n",
    "print(lat, lng, sep=' / ') # 매장 지도 위치\n",
    "print(store_type)\n",
    "print(address)"
   ]
  },
  {
   "cell_type": "code",
   "execution_count": 9,
   "metadata": {},
   "outputs": [
    {
     "name": "stderr",
     "output_type": "stream",
     "text": [
      "100%|██████████| 137/137 [00:00<00:00, 5430.67it/s]\n"
     ]
    }
   ],
   "source": [
    "# 137개 매장 데이터 가져오기\n",
    "starbuks_busan_list = []\n",
    "\n",
    "for item in tqdm(starbuks_soup_list):\n",
    "    name = item.select('strong')[0].text.strip()\n",
    "    lat = item['data-lat'].strip()\n",
    "    lng = item['data-long'].strip()\n",
    "    store_type = item.select('i')[0]['class'][0].split('_')[1] # _로 자르면 두번째값이 general/reserve\n",
    "    address = item.select('p')[0].get_text(separator='|').split('|')[0]\n",
    "\n",
    "    starbuks_busan_list.append([name, lat, lng, store_type, address])"
   ]
  },
  {
   "cell_type": "code",
   "execution_count": 10,
   "metadata": {},
   "outputs": [
    {
     "data": {
      "text/plain": [
       "137"
      ]
     },
     "execution_count": 10,
     "metadata": {},
     "output_type": "execute_result"
    }
   ],
   "source": [
    "len(starbuks_busan_list)"
   ]
  },
  {
   "cell_type": "code",
   "execution_count": 11,
   "metadata": {},
   "outputs": [
    {
     "data": {
      "text/html": [
       "<div>\n",
       "<style scoped>\n",
       "    .dataframe tbody tr th:only-of-type {\n",
       "        vertical-align: middle;\n",
       "    }\n",
       "\n",
       "    .dataframe tbody tr th {\n",
       "        vertical-align: top;\n",
       "    }\n",
       "\n",
       "    .dataframe thead th {\n",
       "        text-align: right;\n",
       "    }\n",
       "</style>\n",
       "<table border=\"1\" class=\"dataframe\">\n",
       "  <thead>\n",
       "    <tr style=\"text-align: right;\">\n",
       "      <th></th>\n",
       "      <th>매장명</th>\n",
       "      <th>위도</th>\n",
       "      <th>경도</th>\n",
       "      <th>매장타입</th>\n",
       "      <th>주소</th>\n",
       "    </tr>\n",
       "  </thead>\n",
       "  <tbody>\n",
       "    <tr>\n",
       "      <th>132</th>\n",
       "      <td>해운대 엑스더스카이</td>\n",
       "      <td>35.1599648</td>\n",
       "      <td>129.1697564</td>\n",
       "      <td>general</td>\n",
       "      <td>부산광역시 해운대구 달맞이길30</td>\n",
       "    </tr>\n",
       "    <tr>\n",
       "      <th>133</th>\n",
       "      <td>센텀신세계3F</td>\n",
       "      <td>35.16906348</td>\n",
       "      <td>129.12906568</td>\n",
       "      <td>general</td>\n",
       "      <td>부산광역시 해운대구 센텀남대로 35 (우동)</td>\n",
       "    </tr>\n",
       "    <tr>\n",
       "      <th>134</th>\n",
       "      <td>해운대중동역</td>\n",
       "      <td>35.1671846</td>\n",
       "      <td>129.1678855</td>\n",
       "      <td>general</td>\n",
       "      <td>부산광역시 해운대구 좌동순환로 6 (중동)</td>\n",
       "    </tr>\n",
       "    <tr>\n",
       "      <th>135</th>\n",
       "      <td>센텀몰1F</td>\n",
       "      <td>35.16981023</td>\n",
       "      <td>129.12778297</td>\n",
       "      <td>general</td>\n",
       "      <td>부산광역시 해운대구 센텀4로 15 (우동)</td>\n",
       "    </tr>\n",
       "    <tr>\n",
       "      <th>136</th>\n",
       "      <td>그랜드조선 부산</td>\n",
       "      <td>35.1600338</td>\n",
       "      <td>129.1630512</td>\n",
       "      <td>general</td>\n",
       "      <td>부산광역시 해운대구 해운대해변로 292 (중동)</td>\n",
       "    </tr>\n",
       "  </tbody>\n",
       "</table>\n",
       "</div>"
      ],
      "text/plain": [
       "            매장명           위도            경도     매장타입  \\\n",
       "132  해운대 엑스더스카이   35.1599648   129.1697564  general   \n",
       "133     센텀신세계3F  35.16906348  129.12906568  general   \n",
       "134      해운대중동역   35.1671846   129.1678855  general   \n",
       "135       센텀몰1F  35.16981023  129.12778297  general   \n",
       "136    그랜드조선 부산   35.1600338   129.1630512  general   \n",
       "\n",
       "                             주소  \n",
       "132          부산광역시 해운대구 달맞이길30   \n",
       "133    부산광역시 해운대구 센텀남대로 35 (우동)  \n",
       "134     부산광역시 해운대구 좌동순환로 6 (중동)  \n",
       "135     부산광역시 해운대구 센텀4로 15 (우동)  \n",
       "136  부산광역시 해운대구 해운대해변로 292 (중동)  "
      ]
     },
     "execution_count": 11,
     "metadata": {},
     "output_type": "execute_result"
    }
   ],
   "source": [
    "# DataFrame 생성\n",
    "columns = ['매장명', '위도', '경도', '매장타입', '주소']\n",
    "df = pd.DataFrame(starbuks_busan_list, columns=columns)\n",
    "df.tail()"
   ]
  },
  {
   "cell_type": "code",
   "execution_count": 12,
   "metadata": {},
   "outputs": [
    {
     "name": "stdout",
     "output_type": "stream",
     "text": [
      "<class 'pandas.core.frame.DataFrame'>\n",
      "RangeIndex: 137 entries, 0 to 136\n",
      "Data columns (total 5 columns):\n",
      " #   Column  Non-Null Count  Dtype \n",
      "---  ------  --------------  ----- \n",
      " 0   매장명     137 non-null    object\n",
      " 1   위도      137 non-null    object\n",
      " 2   경도      137 non-null    object\n",
      " 3   매장타입    137 non-null    object\n",
      " 4   주소      137 non-null    object\n",
      "dtypes: object(5)\n",
      "memory usage: 5.5+ KB\n"
     ]
    }
   ],
   "source": [
    "df.info()"
   ]
  },
  {
   "cell_type": "code",
   "execution_count": 13,
   "metadata": {},
   "outputs": [],
   "source": [
    "# 엑셀로 저장\n",
    "df.to_excel('./busan_starbuks.xlsx', index=False)"
   ]
  }
 ],
 "metadata": {
  "kernelspec": {
   "display_name": "Python 3",
   "language": "python",
   "name": "python3"
  },
  "language_info": {
   "codemirror_mode": {
    "name": "ipython",
    "version": 3
   },
   "file_extension": ".py",
   "mimetype": "text/x-python",
   "name": "python",
   "nbconvert_exporter": "python",
   "pygments_lexer": "ipython3",
   "version": "3.11.4 (tags/v3.11.4:d2340ef, Jun  7 2023, 05:45:37) [MSC v.1934 64 bit (AMD64)]"
  },
  "orig_nbformat": 4,
  "vscode": {
   "interpreter": {
    "hash": "5238573367df39f7286bb46f9ff5f08f63a01a80960060ce41e3c79b190280fa"
   }
  }
 },
 "nbformat": 4,
 "nbformat_minor": 2
}
