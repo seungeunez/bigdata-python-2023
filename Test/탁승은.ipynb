{
 "cells": [
  {
   "attachments": {},
   "cell_type": "markdown",
   "metadata": {},
   "source": [
    "### Python 코딩테스트\n",
    "\n",
    "##### 탁승은"
   ]
  },
  {
   "cell_type": "code",
   "execution_count": 30,
   "metadata": {},
   "outputs": [
    {
     "name": "stdout",
     "output_type": "stream",
     "text": [
      "남자\n"
     ]
    }
   ],
   "source": [
    "# 1번\n",
    "\n",
    "id = input('주민번호를 입력해주세요 ( -를 포함해서 적어주세요) > ')\n",
    "\n",
    "yyyymmdd = id.split('-')[0]\n",
    "num = id.split('-')[1]\n",
    "\n",
    "if (num[:1] == '1' or num[:1] == '3' or num[:1] == '5'):\n",
    "    print('남자')\n",
    "elif (num[:1] == '2' or num[:1] == '4' or num[:1] == '6'):\n",
    "    print('여자')\n"
   ]
  },
  {
   "cell_type": "code",
   "execution_count": 11,
   "metadata": {},
   "outputs": [],
   "source": [
    "# 2번\n",
    "week = input('영어로 요일을 적어주세요 > ')\n",
    "\n",
    "if week == 'MON':\n",
    "    print('월요일')\n",
    "elif week == 'TUE':\n",
    "    print('화요일')\n",
    "elif week == 'WED':\n",
    "    print('수요일')\n",
    "elif week == 'TUR':\n",
    "    print('목요일')\n",
    "elif week == 'FRI':\n",
    "    print('금요일')\n",
    "elif week == 'SAT':\n",
    "    print('토요일')\n",
    "elif week == 'SUN':\n",
    "    print('일요일')\n"
   ]
  },
  {
   "cell_type": "code",
   "execution_count": 17,
   "metadata": {},
   "outputs": [
    {
     "name": "stdout",
     "output_type": "stream",
     "text": [
      "어서오십시오, 손님~!!\n"
     ]
    }
   ],
   "source": [
    "# 3번\n",
    "age = int(input('나이를 입력해주세요 > '))\n",
    "\n",
    "if age < 19:\n",
    "    print('애들은 가라')\n",
    "else:\n",
    "    print('어서오십시오, 손님~!!')"
   ]
  },
  {
   "cell_type": "code",
   "execution_count": 76,
   "metadata": {},
   "outputs": [
    {
     "name": "stdout",
     "output_type": "stream",
     "text": [
      "./result.txt이(가) 생성되었습니다\n"
     ]
    }
   ],
   "source": [
    "# 4번\n",
    "filename = './result.txt'\n",
    "f = open(filename, mode='wt', encoding='utf-8')\n",
    "\n",
    "i = 1\n",
    "    \n",
    "while i <= 10000:\n",
    "    i += 1\n",
    "    if (i % 3 == 0 or i % 5 == 0):\n",
    "        f.write(str(i)+', ')\n",
    "    \n",
    "f.close()\n",
    "\n",
    "print(f'{filename}이(가) 생성되었습니다')"
   ]
  },
  {
   "cell_type": "code",
   "execution_count": 62,
   "metadata": {},
   "outputs": [
    {
     "name": "stdout",
     "output_type": "stream",
     "text": [
      "2023\\07-04 09*57%57\n"
     ]
    }
   ],
   "source": [
    "# 5번\n",
    "import datetime\n",
    "\n",
    "td = datetime.datetime.today()\n",
    "td = td.strftime('%Y\\%m-%d %H*%M%%%S')\n",
    "\n",
    "print(td)"
   ]
  }
 ],
 "metadata": {
  "kernelspec": {
   "display_name": "Python 3",
   "language": "python",
   "name": "python3"
  },
  "language_info": {
   "codemirror_mode": {
    "name": "ipython",
    "version": 3
   },
   "file_extension": ".py",
   "mimetype": "text/x-python",
   "name": "python",
   "nbconvert_exporter": "python",
   "pygments_lexer": "ipython3",
   "version": "3.11.4"
  },
  "orig_nbformat": 4,
  "vscode": {
   "interpreter": {
    "hash": "5238573367df39f7286bb46f9ff5f08f63a01a80960060ce41e3c79b190280fa"
   }
  }
 },
 "nbformat": 4,
 "nbformat_minor": 2
}
