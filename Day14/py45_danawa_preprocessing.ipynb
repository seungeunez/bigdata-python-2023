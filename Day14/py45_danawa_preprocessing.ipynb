{
 "cells": [
  {
   "attachments": {},
   "cell_type": "markdown",
   "metadata": {},
   "source": [
    "#### 수집데이터 전처리\n",
    "\n",
    "##### 전처리용 모듈 임포트"
   ]
  },
  {
   "cell_type": "code",
   "execution_count": 1,
   "metadata": {},
   "outputs": [],
   "source": [
    "import pandas as pd\n",
    "import numpy as np"
   ]
  },
  {
   "cell_type": "code",
   "execution_count": 2,
   "metadata": {},
   "outputs": [
    {
     "data": {
      "text/html": [
       "<div>\n",
       "<style scoped>\n",
       "    .dataframe tbody tr th:only-of-type {\n",
       "        vertical-align: middle;\n",
       "    }\n",
       "\n",
       "    .dataframe tbody tr th {\n",
       "        vertical-align: top;\n",
       "    }\n",
       "\n",
       "    .dataframe thead th {\n",
       "        text-align: right;\n",
       "    }\n",
       "</style>\n",
       "<table border=\"1\" class=\"dataframe\">\n",
       "  <thead>\n",
       "    <tr style=\"text-align: right;\">\n",
       "      <th></th>\n",
       "      <th>상품명</th>\n",
       "      <th>스펙목록</th>\n",
       "      <th>가격</th>\n",
       "    </tr>\n",
       "  </thead>\n",
       "  <tbody>\n",
       "    <tr>\n",
       "      <th>2220</th>\n",
       "      <td>라미 LED차량용 무선 청소기</td>\n",
       "      <td>차량용청소기 / 무선 / [흡입력] ~6,000Pa / [필터] 헤파필터 / 스테인...</td>\n",
       "      <td>69000</td>\n",
       "    </tr>\n",
       "    <tr>\n",
       "      <th>2221</th>\n",
       "      <td>정인일렉텍 큐브온 핸디형 무선 진공 청소기</td>\n",
       "      <td>차량용청소기 / 무선 / [흡입력] 6,000Pa / [소비전력] 70W / [필터...</td>\n",
       "      <td>53990</td>\n",
       "    </tr>\n",
       "    <tr>\n",
       "      <th>2222</th>\n",
       "      <td>바이거 DEX-WC230</td>\n",
       "      <td>물걸레청소기 / 회전식 / 물걸레전용 / 무선 / [배터리] 사용시간: 1시간20분...</td>\n",
       "      <td>146700</td>\n",
       "    </tr>\n",
       "    <tr>\n",
       "      <th>2223</th>\n",
       "      <td>앤커 무선 핸디형 청소기 유피 홈백 H11</td>\n",
       "      <td>차량용청소기 / 무선 / [흡입력] 5,500Pa / [소비전력] 70W / [필터...</td>\n",
       "      <td>86900</td>\n",
       "    </tr>\n",
       "    <tr>\n",
       "      <th>2224</th>\n",
       "      <td>대우어플라이언스 아쿠아젯 LP-LQ1001</td>\n",
       "      <td>물걸레청소기 / 회전식 / 물걸레전용 / 무선 / [배터리] 충전시간: 5시간 / ...</td>\n",
       "      <td>144150</td>\n",
       "    </tr>\n",
       "  </tbody>\n",
       "</table>\n",
       "</div>"
      ],
      "text/plain": [
       "                          상품명  \\\n",
       "2220         라미 LED차량용 무선 청소기   \n",
       "2221  정인일렉텍 큐브온 핸디형 무선 진공 청소기   \n",
       "2222            바이거 DEX-WC230   \n",
       "2223  앤커 무선 핸디형 청소기 유피 홈백 H11   \n",
       "2224  대우어플라이언스 아쿠아젯 LP-LQ1001   \n",
       "\n",
       "                                                   스펙목록      가격  \n",
       "2220  차량용청소기 / 무선 / [흡입력] ~6,000Pa / [필터] 헤파필터 / 스테인...   69000  \n",
       "2221  차량용청소기 / 무선 / [흡입력] 6,000Pa / [소비전력] 70W / [필터...   53990  \n",
       "2222  물걸레청소기 / 회전식 / 물걸레전용 / 무선 / [배터리] 사용시간: 1시간20분...  146700  \n",
       "2223  차량용청소기 / 무선 / [흡입력] 5,500Pa / [소비전력] 70W / [필터...   86900  \n",
       "2224  물걸레청소기 / 회전식 / 물걸레전용 / 무선 / [배터리] 충전시간: 5시간 / ...  144150  "
      ]
     },
     "execution_count": 2,
     "metadata": {},
     "output_type": "execute_result"
    }
   ],
   "source": [
    "df = pd.read_excel('./1_다나와_무선청소기결과.xlsx')\n",
    "df.tail()"
   ]
  },
  {
   "cell_type": "code",
   "execution_count": 3,
   "metadata": {},
   "outputs": [
    {
     "name": "stdout",
     "output_type": "stream",
     "text": [
      "<class 'pandas.core.frame.DataFrame'>\n",
      "RangeIndex: 2225 entries, 0 to 2224\n",
      "Data columns (total 3 columns):\n",
      " #   Column  Non-Null Count  Dtype \n",
      "---  ------  --------------  ----- \n",
      " 0   상품명     2225 non-null   object\n",
      " 1   스펙목록    2225 non-null   object\n",
      " 2   가격      2225 non-null   object\n",
      "dtypes: object(3)\n",
      "memory usage: 52.3+ KB\n"
     ]
    }
   ],
   "source": [
    "df.info()"
   ]
  },
  {
   "cell_type": "code",
   "execution_count": 20,
   "metadata": {},
   "outputs": [
    {
     "data": {
      "text/plain": [
       "['대우어플라이언스', '아쿠아젯 LP-LQ1001']"
      ]
     },
     "execution_count": 20,
     "metadata": {},
     "output_type": "execute_result"
    }
   ],
   "source": [
    "# 제조사 상품명 [상품코드]\n",
    "# split시 두번째 파라미터 숫자가 자를 횟수\n",
    "df['상품명'][2224].split(' ', 1)"
   ]
  },
  {
   "cell_type": "code",
   "execution_count": 30,
   "metadata": {},
   "outputs": [],
   "source": [
    "# 회사명, 모델명 분리\n",
    "comp_list, prod_list = [], []\n",
    "count = 0\n",
    "\n",
    "for title in df['상품명']: \n",
    "    temps = str(title).split(' ', 1)\n",
    "    try:\n",
    "        if len(temps) == 2: # 회사명/모델명만 있는 상품이 존재\n",
    "            comp_list.append(temps[0])\n",
    "            prod_list.append(temps[1])\n",
    "        else:\n",
    "            comp_list.append(temps[0])\n",
    "            prod_list.append(temps[0])\n",
    "    except:\n",
    "        print(count)\n",
    "\n",
    "    count += 1"
   ]
  },
  {
   "cell_type": "code",
   "execution_count": 150,
   "metadata": {},
   "outputs": [],
   "source": [
    "cate_list, usetime_list, suction_list = [], [], []\n",
    "\n",
    "for spec_data in df['스펙목록']:\n",
    "    spec_list = spec_data.split(' / ')\n",
    "\n",
    "    # 카테고리, 사용시간, 흡입력 만 추출\n",
    "    category = spec_list[0]\n",
    "    cate_list.append(category)\n",
    "\n",
    "    time_count = 0   \n",
    "    suction_count = 0 # 사용시간, 흡력이 있을때만 카운트\n",
    "\n",
    "    for spec in spec_list:\n",
    "        if '사용시간' in spec:\n",
    "            usetime_value = str(spec).split(' ')[1].strip()\n",
    "            time_count += 1\n",
    "        if '흡입력' in spec:\n",
    "            suction_value = str(spec).split(' ')[1].strip()        \n",
    "            suction_count += 1\n",
    "\n",
    "    if time_count == 0: # 사용시간 정보가 없음\n",
    "        usetime_value = ''\n",
    "    if suction_count == 0: # 흡입력에 대한 정보 없음\n",
    "        suction_value = ''    \n",
    "\n",
    "    usetime_list.append(usetime_value)\n",
    "    suction_list.append(suction_value)"
   ]
  },
  {
   "attachments": {},
   "cell_type": "markdown",
   "metadata": {},
   "source": [
    "##### 사용시간, 흡입력 단위 통일, 수치화\n",
    "\n",
    "- 사용시간 : 분, 시간, 시간 분 등 분류가 되어 있고, object64 --> 수치화 할 수 없음\n",
    "- 흡입력 : W, AW, Pa 등으로 단위가 일치하지 않고, object64 --> 수치화 불가"
   ]
  },
  {
   "cell_type": "code",
   "execution_count": null,
   "metadata": {},
   "outputs": [],
   "source": [
    "suction_list"
   ]
  },
  {
   "cell_type": "code",
   "execution_count": 172,
   "metadata": {},
   "outputs": [
    {
     "name": "stdout",
     "output_type": "stream",
     "text": [
      "None\n"
     ]
    }
   ],
   "source": [
    "# 사용시간 단위 분으로 변환함수\n",
    "def convert_to_min(cur_time):\n",
    "    hour, minute = 0, 0\n",
    "\n",
    "    try:\n",
    "        if '시간' in cur_time:\n",
    "            hour = int(cur_time.split('시간')[0])\n",
    "            \n",
    "            if '분' in cur_time:\n",
    "                minute = int(cur_time.split('시간')[-1].split('분')[0])\n",
    "            else:\n",
    "                minute = 0\n",
    "        else:\n",
    "            hour = 0\n",
    "            minute = int(cur_time.split('분')[0])\n",
    "        \n",
    "        return hour*60 + minute\n",
    "    except:\n",
    "        return None\n",
    "\n",
    "print(convert_to_min(usetime_list[16]))"
   ]
  },
  {
   "cell_type": "code",
   "execution_count": 173,
   "metadata": {},
   "outputs": [],
   "source": [
    "usemin_list = []\n",
    "\n",
    "for ctime in usetime_list:\n",
    "    usemin_list.append(convert_to_min(ctime))"
   ]
  },
  {
   "cell_type": "code",
   "execution_count": 176,
   "metadata": {},
   "outputs": [
    {
     "data": {
      "text/plain": [
       "2225"
      ]
     },
     "execution_count": 176,
     "metadata": {},
     "output_type": "execute_result"
    }
   ],
   "source": [
    "len(usemin_list)"
   ]
  },
  {
   "cell_type": "code",
   "execution_count": 178,
   "metadata": {},
   "outputs": [],
   "source": [
    "# 흡입력 단위 통일\n",
    "def convert_suction(value):\n",
    "    try:\n",
    "        value = str(value).upper() # AW, W, Pa -> PA\n",
    "        if 'AW' in value or 'W' in value:\n",
    "            result = value.replace('A', '').replace('W', '').replace(',', '')\n",
    "            result = int(result)\n",
    "        elif 'PA' in value:\n",
    "            result = value.replace('PA', '').replace(',', '')\n",
    "            result = int(result)/100\n",
    "        else:\n",
    "            result = None\n",
    "    except:\n",
    "        result = None\n",
    "\n",
    "    return result"
   ]
  },
  {
   "cell_type": "code",
   "execution_count": 190,
   "metadata": {},
   "outputs": [
    {
     "data": {
      "text/plain": [
       "220"
      ]
     },
     "execution_count": 190,
     "metadata": {},
     "output_type": "execute_result"
    }
   ],
   "source": [
    "convert_suction(suction_list[19])"
   ]
  },
  {
   "cell_type": "code",
   "execution_count": 191,
   "metadata": {},
   "outputs": [],
   "source": [
    "new_suction_list = []\n",
    "\n",
    "for power in suction_list:\n",
    "    new_suction_list.append(convert_suction(power))"
   ]
  },
  {
   "cell_type": "code",
   "execution_count": 192,
   "metadata": {},
   "outputs": [
    {
     "data": {
      "text/plain": [
       "2225"
      ]
     },
     "execution_count": 192,
     "metadata": {},
     "output_type": "execute_result"
    }
   ],
   "source": [
    "len(new_suction_list)"
   ]
  },
  {
   "attachments": {},
   "cell_type": "markdown",
   "metadata": {},
   "source": [
    "##### 전처리 완료 자료 DF생성"
   ]
  },
  {
   "cell_type": "code",
   "execution_count": 195,
   "metadata": {},
   "outputs": [],
   "source": [
    "df_product = pd.DataFrame()\n",
    "df_product['카테고리'] = cate_list\n",
    "df_product['회사명'] = comp_list\n",
    "df_product['제품명'] = prod_list\n",
    "df_product['가격'] = df['가격']\n",
    "df_product['사용시간'] = usemin_list\n",
    "df_product['흡입력'] = new_suction_list"
   ]
  },
  {
   "cell_type": "code",
   "execution_count": 197,
   "metadata": {},
   "outputs": [
    {
     "name": "stdout",
     "output_type": "stream",
     "text": [
      "<class 'pandas.core.frame.DataFrame'>\n",
      "RangeIndex: 2225 entries, 0 to 2224\n",
      "Data columns (total 6 columns):\n",
      " #   Column  Non-Null Count  Dtype  \n",
      "---  ------  --------------  -----  \n",
      " 0   카테고리    2225 non-null   object \n",
      " 1   회사명     2225 non-null   object \n",
      " 2   제품명     2225 non-null   object \n",
      " 3   가격      2225 non-null   object \n",
      " 4   사용시간    1687 non-null   float64\n",
      " 5   흡입력     1121 non-null   float64\n",
      "dtypes: float64(2), object(4)\n",
      "memory usage: 104.4+ KB\n"
     ]
    }
   ],
   "source": [
    "df_product.info()"
   ]
  },
  {
   "cell_type": "code",
   "execution_count": 200,
   "metadata": {},
   "outputs": [],
   "source": [
    "## 가격이 object인 이유는 '일시품절' --> None\n",
    "df_product[df_product['가격'] == '일시품절'] = None"
   ]
  },
  {
   "cell_type": "code",
   "execution_count": 208,
   "metadata": {},
   "outputs": [
    {
     "data": {
      "text/plain": [
       "카테고리\n",
       "핸디스틱청소기              1034\n",
       "물걸레청소기                357\n",
       "차량용청소기                301\n",
       "핸디청소기                 169\n",
       "침구청소기                 107\n",
       "욕실청소기                  69\n",
       "업소용청소기                 45\n",
       "핸디/스틱청소기+로봇청소기세트       41\n",
       "스틱청소기                  32\n",
       "스틱청소기+로봇청소기트            5\n",
       "진공청소기                   4\n",
       "스틱청소기+공기청정기세트           4\n",
       "스팀청소기                   4\n",
       "청소기+제습기                 3\n",
       "핸디/스틱청소기+핸디/스틱청소기       3\n",
       "핸디스틱청소기+공기청정기세트         2\n",
       "침구/카펫청소기                2\n",
       "청소기+공기청정기               2\n",
       "물걸레청소기+스팀청소기            2\n",
       "차량용선풍기                  1\n",
       "로봇청소기                   1\n",
       "핸디/스틱청소기+전기밥세트          1\n",
       "핸디/스틱청소기+물걸레청소기세트       1\n",
       "핸디/스틱청소기+업소용청소기         1\n",
       "욕실+물걸레청소기               1\n",
       "수영장청소기                  1\n",
       "Name: count, dtype: int64"
      ]
     },
     "execution_count": 208,
     "metadata": {},
     "output_type": "execute_result"
    }
   ],
   "source": [
    "df_product['카테고리'].value_counts()"
   ]
  },
  {
   "cell_type": "code",
   "execution_count": 214,
   "metadata": {},
   "outputs": [],
   "source": [
    "df_product_final = df_product[df_product['카테고리'].isin(['핸디스틱청소기'])]"
   ]
  },
  {
   "cell_type": "code",
   "execution_count": 217,
   "metadata": {},
   "outputs": [
    {
     "name": "stdout",
     "output_type": "stream",
     "text": [
      "<class 'pandas.core.frame.DataFrame'>\n",
      "Index: 1034 entries, 0 to 1367\n",
      "Data columns (total 6 columns):\n",
      " #   Column  Non-Null Count  Dtype  \n",
      "---  ------  --------------  -----  \n",
      " 0   카테고리    1034 non-null   object \n",
      " 1   회사명     1034 non-null   object \n",
      " 2   제품명     1034 non-null   object \n",
      " 3   가격      1034 non-null   object \n",
      " 4   사용시간    899 non-null    float64\n",
      " 5   흡입력     674 non-null    float64\n",
      "dtypes: float64(2), object(4)\n",
      "memory usage: 56.5+ KB\n"
     ]
    }
   ],
   "source": [
    "df_product_final.info()"
   ]
  },
  {
   "cell_type": "code",
   "execution_count": 224,
   "metadata": {},
   "outputs": [],
   "source": [
    "df_product_final = df_product_final.astype({'가격':'int64'}) # object64 --> int64 변경"
   ]
  },
  {
   "cell_type": "code",
   "execution_count": 225,
   "metadata": {},
   "outputs": [
    {
     "name": "stdout",
     "output_type": "stream",
     "text": [
      "<class 'pandas.core.frame.DataFrame'>\n",
      "Index: 1034 entries, 0 to 1367\n",
      "Data columns (total 6 columns):\n",
      " #   Column  Non-Null Count  Dtype  \n",
      "---  ------  --------------  -----  \n",
      " 0   카테고리    1034 non-null   object \n",
      " 1   회사명     1034 non-null   object \n",
      " 2   제품명     1034 non-null   object \n",
      " 3   가격      1034 non-null   int64  \n",
      " 4   사용시간    899 non-null    float64\n",
      " 5   흡입력     674 non-null    float64\n",
      "dtypes: float64(2), int64(1), object(3)\n",
      "memory usage: 56.5+ KB\n"
     ]
    }
   ],
   "source": [
    "df_product_final.info()"
   ]
  },
  {
   "cell_type": "code",
   "execution_count": 226,
   "metadata": {},
   "outputs": [],
   "source": [
    "df_product_final.to_excel('./3_다나와_핸디스틱청소기_결과.xlsx', index=False)"
   ]
  }
 ],
 "metadata": {
  "kernelspec": {
   "display_name": "Python 3",
   "language": "python",
   "name": "python3"
  },
  "language_info": {
   "codemirror_mode": {
    "name": "ipython",
    "version": 3
   },
   "file_extension": ".py",
   "mimetype": "text/x-python",
   "name": "python",
   "nbconvert_exporter": "python",
   "pygments_lexer": "ipython3",
   "version": "3.11.4"
  },
  "orig_nbformat": 4,
  "vscode": {
   "interpreter": {
    "hash": "5238573367df39f7286bb46f9ff5f08f63a01a80960060ce41e3c79b190280fa"
   }
  }
 },
 "nbformat": 4,
 "nbformat_minor": 2
}
