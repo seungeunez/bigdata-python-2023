{
 "cells": [
  {
   "attachments": {},
   "cell_type": "markdown",
   "metadata": {},
   "source": [
    "#### 미세먼지 현황 분석\n",
    "\n",
    "##### 데이터 수집 사이트\n",
    "\n",
    "- 에어코리아 : https://www.airkorea.or.kr/index\n",
    "- 기상청 : https://www.weather.go.kr/w/weather/forecast/short-term.do\n",
    "\n",
    "\n"
   ]
  },
  {
   "cell_type": "code",
   "execution_count": null,
   "metadata": {},
   "outputs": [],
   "source": []
  }
 ],
 "metadata": {
  "language_info": {
   "name": "python"
  },
  "orig_nbformat": 4
 },
 "nbformat": 4,
 "nbformat_minor": 2
}
