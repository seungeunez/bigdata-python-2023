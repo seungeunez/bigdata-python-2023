{
 "cells": [
  {
   "attachments": {},
   "cell_type": "markdown",
   "metadata": {},
   "source": [
    "#### 멜론 노래순위 정보 크롤링\n",
    "\n",
    "##### 크롬 드라이버"
   ]
  },
  {
   "cell_type": "code",
   "execution_count": 4,
   "metadata": {},
   "outputs": [],
   "source": [
    "# 크롬드라이버로 크롬 열기\n",
    "from selenium import webdriver\n",
    "\n",
    "driver = webdriver.Chrome()"
   ]
  },
  {
   "cell_type": "code",
   "execution_count": 5,
   "metadata": {},
   "outputs": [],
   "source": [
    "# 멜론차트로 진입\n",
    "url = 'https://www.melon.com/chart/index.htm'\n",
    "driver.get(url)"
   ]
  },
  {
   "attachments": {},
   "cell_type": "markdown",
   "metadata": {},
   "source": [
    "##### 뷰티풀수프로 웹 크롤링"
   ]
  },
  {
   "cell_type": "code",
   "execution_count": 6,
   "metadata": {},
   "outputs": [],
   "source": [
    "# beautifulSoup로 HTML 다운로드\n",
    "from bs4 import BeautifulSoup\n",
    "\n",
    "html = driver.page_source\n",
    "soup = BeautifulSoup(html, 'html.parser') # html.parser, lxml, xml, html5lib\n"
   ]
  },
  {
   "cell_type": "code",
   "execution_count": 7,
   "metadata": {},
   "outputs": [
    {
     "data": {
      "text/plain": [
       "100"
      ]
     },
     "execution_count": 7,
     "metadata": {},
     "output_type": "execute_result"
    }
   ],
   "source": [
    "songs = soup.select('table > tbody > tr')\n",
    "len(songs)"
   ]
  },
  {
   "cell_type": "code",
   "execution_count": 8,
   "metadata": {},
   "outputs": [],
   "source": [
    "song = songs[0]"
   ]
  },
  {
   "cell_type": "code",
   "execution_count": 9,
   "metadata": {},
   "outputs": [
    {
     "data": {
      "text/plain": [
       "[<a class=\"image_typeAll\" href=\"javascript:melon.link.goAlbumDetail('11240232');\" title=\"I feel\">\n",
       " <img alt=\"I feel - 페이지 이동\" height=\"60\" onerror=\"WEBPOCIMG.defaultAlbumImg(this);\" src=\"https://cdnimg.melon.co.kr/cm2/album/images/112/40/232/11240232_20230509151820_500.jpg/melon/resize/120/quality/80/optimize\" width=\"60\"/>\n",
       " <span class=\"bg_album_frame\"></span>\n",
       " </a>,\n",
       " <a class=\"btn button_icons type03 song_info\" href=\"javascript:melon.link.goSongDetail('36430773');\" title=\"퀸카 (Queencard) 곡정보\"><span class=\"none\">곡정보</span></a>,\n",
       " <a href=\"javascript:melon.play.playSong('1000002721',36430773);\" title=\"퀸카 (Queencard) 재생\">퀸카 (Queencard)</a>,\n",
       " <a href=\"javascript:melon.link.goArtistDetail('2137482');\" title=\"(여자)아이들 - 페이지 이동\">(여자)아이들</a>,\n",
       " <a href=\"javascript:melon.link.goArtistDetail('2137482');\" title=\"(여자)아이들 - 페이지 이동\">(여자)아이들</a>,\n",
       " <a href=\"javascript:melon.link.goAlbumDetail('11240232');\" title=\"I feel - 페이지 이동\">I feel</a>]"
      ]
     },
     "execution_count": 9,
     "metadata": {},
     "output_type": "execute_result"
    }
   ],
   "source": [
    "song.select('a')"
   ]
  },
  {
   "cell_type": "code",
   "execution_count": 10,
   "metadata": {},
   "outputs": [
    {
     "data": {
      "text/plain": [
       "[<a href=\"javascript:melon.play.playSong('1000002721',36430773);\" title=\"퀸카 (Queencard) 재생\">퀸카 (Queencard)</a>,\n",
       " <a href=\"javascript:melon.link.goArtistDetail('2137482');\" title=\"(여자)아이들 - 페이지 이동\">(여자)아이들</a>]"
      ]
     },
     "execution_count": 10,
     "metadata": {},
     "output_type": "execute_result"
    }
   ],
   "source": [
    "song.select('span > a')"
   ]
  },
  {
   "cell_type": "code",
   "execution_count": 11,
   "metadata": {},
   "outputs": [
    {
     "data": {
      "text/plain": [
       "'1'"
      ]
     },
     "execution_count": 11,
     "metadata": {},
     "output_type": "execute_result"
    }
   ],
   "source": [
    "song.select('span.rank')[0].text"
   ]
  },
  {
   "cell_type": "code",
   "execution_count": 12,
   "metadata": {},
   "outputs": [
    {
     "data": {
      "text/plain": [
       "[<span class=\"none\">단계 하락</span>]"
      ]
     },
     "execution_count": 12,
     "metadata": {},
     "output_type": "execute_result"
    }
   ],
   "source": [
    "songs[8].select('span.rank_wrap > span > span')"
   ]
  },
  {
   "cell_type": "code",
   "execution_count": 13,
   "metadata": {},
   "outputs": [
    {
     "data": {
      "text/plain": [
       "[]"
      ]
     },
     "execution_count": 13,
     "metadata": {},
     "output_type": "execute_result"
    }
   ],
   "source": [
    "songs[8].select('span.rank_wrap > span.up')"
   ]
  },
  {
   "cell_type": "code",
   "execution_count": 14,
   "metadata": {},
   "outputs": [
    {
     "data": {
      "text/plain": [
       "'헤어지자 말해요'"
      ]
     },
     "execution_count": 14,
     "metadata": {},
     "output_type": "execute_result"
    }
   ],
   "source": [
    "songs[8].select('span > a')[0].text"
   ]
  },
  {
   "cell_type": "code",
   "execution_count": 15,
   "metadata": {},
   "outputs": [
    {
     "data": {
      "text/plain": [
       "'박재정'"
      ]
     },
     "execution_count": 15,
     "metadata": {},
     "output_type": "execute_result"
    }
   ],
   "source": [
    "songs[8].select('span.checkEllipsis > a')[0].text"
   ]
  },
  {
   "cell_type": "code",
   "execution_count": 16,
   "metadata": {},
   "outputs": [
    {
     "name": "stdout",
     "output_type": "stream",
     "text": [
      "1 퀸카 (Queencard) (여자)아이들\n",
      "2 I AM IVE (아이브)\n",
      "3 Spicy aespa\n",
      "4 이브, 프시케 그리고 푸른 수염의 아내 LE SSERAFIM (르세라핌)\n",
      "5 UNFORGIVEN (feat. Nile Rodgers) LE SSERAFIM (르세라핌)\n",
      "6 Kitsch IVE (아이브)\n",
      "7 사랑은 늘 도망가 임영웅\n",
      "8 모래 알갱이 임영웅\n",
      "9 헤어지자 말해요 박재정\n",
      "10 우리들의 블루스 임영웅\n",
      "11 Hype boy NewJeans\n",
      "12 다시 만날 수 있을까 임영웅\n",
      "13 무지개 임영웅\n",
      "14 London Boy 임영웅\n",
      "15 꽃 지수 (JISOO)\n",
      "16 손오공 세븐틴 (SEVENTEEN)\n",
      "17 이제 나만 믿어요 임영웅\n",
      "18 Polaroid 임영웅\n",
      "19 아버지 임영웅\n",
      "20 Ditto NewJeans\n",
      "21 인생찬가 임영웅\n",
      "22 A bientot 임영웅\n",
      "23 손이 참 곱던 그대 임영웅\n",
      "24 사랑해 진짜 임영웅\n",
      "25 Cupid FIFTY FIFTY\n",
      "26 연애편지 임영웅\n",
      "27 OMG NewJeans\n",
      "28 보금자리 임영웅\n",
      "29 사건의 지평선 윤하 (YOUNHA)\n",
      "30 Allergy (여자)아이들\n",
      "31 파이팅 해야지 (Feat. 이영지) 부석순 (SEVENTEEN)\n",
      "32 I Don't Think That I Like Her Charlie Puth\n",
      "33 Dangerously Charlie Puth\n",
      "34 Candy NCT DREAM\n",
      "35 Dynamite 방탄소년단\n",
      "36 After LIKE IVE (아이브)\n",
      "37 Attention NewJeans\n",
      "38 물론 허각\n",
      "39 Take Two 방탄소년단\n",
      "40 LOVE DIVE IVE (아이브)\n",
      "41 Teddy Bear STAYC(스테이씨)\n",
      "42 심(心) DK(디셈버)\n",
      "43 Butter 방탄소년단\n",
      "44 사랑..그게 뭔데 지아\n",
      "45 사랑하지 않아서 그랬어 임한별\n",
      "46 사람 Pt.2 (feat. 아이유) Agust D\n",
      "47 Like Crazy 지민\n",
      "48 ANTIFRAGILE LE SSERAFIM (르세라핌)\n",
      "49 Broken Melodies NCT DREAM\n",
      "50 잠깐 시간 될까 이무진\n",
      "51 봄날 방탄소년단\n",
      "52 나에게 그대만이 탑현\n",
      "53 HARD SHINee (샤이니)\n",
      "54 사랑인가 봐 멜로망스\n",
      "55 Heaven(2023) 임재현\n",
      "56 Permission to Dance 방탄소년단\n",
      "57 The Planet 방탄소년단\n",
      "58 사실말야내가말야그게그러니까말이야 케이시 (Kassy)\n",
      "59 빛이 나는 너에게 던 (DAWN)\n",
      "60 너의 모든 순간 성시경\n",
      "61 NIGHT DANCER imase\n",
      "62 Angel Pt. 1 (Feat. Kodak Black, NLE Choppa, JVKE, Muni Long) Fast & Furious: The Fast Saga\n",
      "63 찬란한 하루 멜로망스\n",
      "64 Dreamers [Music from the FIFA World Cup Qatar 2022 Official Soundtrack] (Feat. FIFA Sound) 정국\n",
      "65 건물 사이에 피어난 장미 (Rose Blossom) H1-KEY (하이키)\n",
      "66 사랑의 바보 제이세라\n",
      "67 첫 키스에 내 심장은 120BPM 경서\n",
      "68 KNOCK 이채연\n",
      "69 Thirsty aespa\n",
      "70 That's Hilarious Charlie Puth\n",
      "71 STAY The Kid LAROI\n",
      "72 사랑하지 않아서 그랬니 지아\n",
      "73 TOMBOY (여자)아이들\n",
      "74 on the street (with J. Cole) j-hope\n",
      "75 그중에 그대를 만나 김호중\n",
      "76 Nxde (여자)아이들\n",
      "77 부동의 첫사랑 10CM\n",
      "78 한사람만 (2023) (여름날 우리 X 이홍기 (FT아일랜드)) 이홍기 (FT아일랜드)\n",
      "79 안녕이라고 말하지마 V.O.S\n",
      "80 나의 바람 (Wind And Wish) 비투비\n",
      "81 해요 (2022) #안녕\n",
      "82 취중고백 김민석 (멜로망스)\n",
      "83 That’s Not How This Works (feat. Dan + Shay) Charlie Puth\n",
      "84 CHRISTIAN Zior Park\n",
      "85 한강에서 (Feat. BIG Naughty) 폴킴\n",
      "86 사랑하기 싫어 지아\n",
      "87 FRIEND THE END 볼빨간사춘기\n",
      "88 Hate Rodrigo (Feat. 우기 ((여자)아이들)) YENA (최예나)\n",
      "89 Monologue 테이\n",
      "90 그라데이션 10CM\n",
      "91 다정히 내 이름을 부르면 경서예지\n",
      "92 LOCKDOWN 이세계아이돌\n",
      "93 ELEVEN IVE (아이브)\n",
      "94 Love Me Like This NMIXX\n",
      "95 Shut Down BLACKPINK\n",
      "96 FEARLESS LE SSERAFIM (르세라핌)\n",
      "97 내가 아니라도 주호\n",
      "98 당신을 만나 김호중\n",
      "99 정이라고 하자 (Feat. 10CM) BIG Naughty (서동현)\n",
      "100 나의 목소리로 김호중\n"
     ]
    }
   ],
   "source": [
    "for song in songs:\n",
    "    rank = song.select('span.rank')[0].text\n",
    "    title = song.select('span > a')[0].text\n",
    "    singer = song.select('span.checkEllipsis > a')[0].text\n",
    "    \n",
    "    print(rank, title, singer)"
   ]
  },
  {
   "cell_type": "code",
   "execution_count": 17,
   "metadata": {},
   "outputs": [],
   "source": [
    "result = []\n",
    "\n",
    "for song in songs:\n",
    "    rank = song.select('span.rank')[0].text\n",
    "    title = song.select('span > a')[0].text\n",
    "    singer = song.select('span.checkEllipsis > a')[0].text\n",
    "    result.append([rank, title, singer])\n",
    "    \n",
    "    result"
   ]
  },
  {
   "cell_type": "code",
   "execution_count": 18,
   "metadata": {},
   "outputs": [],
   "source": [
    "import pandas as pd"
   ]
  },
  {
   "cell_type": "code",
   "execution_count": 19,
   "metadata": {},
   "outputs": [
    {
     "data": {
      "text/html": [
       "<div>\n",
       "<style scoped>\n",
       "    .dataframe tbody tr th:only-of-type {\n",
       "        vertical-align: middle;\n",
       "    }\n",
       "\n",
       "    .dataframe tbody tr th {\n",
       "        vertical-align: top;\n",
       "    }\n",
       "\n",
       "    .dataframe thead th {\n",
       "        text-align: right;\n",
       "    }\n",
       "</style>\n",
       "<table border=\"1\" class=\"dataframe\">\n",
       "  <thead>\n",
       "    <tr style=\"text-align: right;\">\n",
       "      <th></th>\n",
       "      <th>0</th>\n",
       "      <th>1</th>\n",
       "      <th>2</th>\n",
       "    </tr>\n",
       "  </thead>\n",
       "  <tbody>\n",
       "    <tr>\n",
       "      <th>0</th>\n",
       "      <td>1</td>\n",
       "      <td>퀸카 (Queencard)</td>\n",
       "      <td>(여자)아이들</td>\n",
       "    </tr>\n",
       "    <tr>\n",
       "      <th>1</th>\n",
       "      <td>2</td>\n",
       "      <td>I AM</td>\n",
       "      <td>IVE (아이브)</td>\n",
       "    </tr>\n",
       "    <tr>\n",
       "      <th>2</th>\n",
       "      <td>3</td>\n",
       "      <td>Spicy</td>\n",
       "      <td>aespa</td>\n",
       "    </tr>\n",
       "    <tr>\n",
       "      <th>3</th>\n",
       "      <td>4</td>\n",
       "      <td>이브, 프시케 그리고 푸른 수염의 아내</td>\n",
       "      <td>LE SSERAFIM (르세라핌)</td>\n",
       "    </tr>\n",
       "    <tr>\n",
       "      <th>4</th>\n",
       "      <td>5</td>\n",
       "      <td>UNFORGIVEN (feat. Nile Rodgers)</td>\n",
       "      <td>LE SSERAFIM (르세라핌)</td>\n",
       "    </tr>\n",
       "    <tr>\n",
       "      <th>...</th>\n",
       "      <td>...</td>\n",
       "      <td>...</td>\n",
       "      <td>...</td>\n",
       "    </tr>\n",
       "    <tr>\n",
       "      <th>95</th>\n",
       "      <td>96</td>\n",
       "      <td>FEARLESS</td>\n",
       "      <td>LE SSERAFIM (르세라핌)</td>\n",
       "    </tr>\n",
       "    <tr>\n",
       "      <th>96</th>\n",
       "      <td>97</td>\n",
       "      <td>내가 아니라도</td>\n",
       "      <td>주호</td>\n",
       "    </tr>\n",
       "    <tr>\n",
       "      <th>97</th>\n",
       "      <td>98</td>\n",
       "      <td>당신을 만나</td>\n",
       "      <td>김호중</td>\n",
       "    </tr>\n",
       "    <tr>\n",
       "      <th>98</th>\n",
       "      <td>99</td>\n",
       "      <td>정이라고 하자 (Feat. 10CM)</td>\n",
       "      <td>BIG Naughty (서동현)</td>\n",
       "    </tr>\n",
       "    <tr>\n",
       "      <th>99</th>\n",
       "      <td>100</td>\n",
       "      <td>나의 목소리로</td>\n",
       "      <td>김호중</td>\n",
       "    </tr>\n",
       "  </tbody>\n",
       "</table>\n",
       "<p>100 rows × 3 columns</p>\n",
       "</div>"
      ],
      "text/plain": [
       "      0                                1                   2\n",
       "0     1                   퀸카 (Queencard)             (여자)아이들\n",
       "1     2                             I AM           IVE (아이브)\n",
       "2     3                            Spicy               aespa\n",
       "3     4            이브, 프시케 그리고 푸른 수염의 아내  LE SSERAFIM (르세라핌)\n",
       "4     5  UNFORGIVEN (feat. Nile Rodgers)  LE SSERAFIM (르세라핌)\n",
       "..  ...                              ...                 ...\n",
       "95   96                         FEARLESS  LE SSERAFIM (르세라핌)\n",
       "96   97                          내가 아니라도                  주호\n",
       "97   98                           당신을 만나                 김호중\n",
       "98   99             정이라고 하자 (Feat. 10CM)   BIG Naughty (서동현)\n",
       "99  100                          나의 목소리로                 김호중\n",
       "\n",
       "[100 rows x 3 columns]"
      ]
     },
     "execution_count": 19,
     "metadata": {},
     "output_type": "execute_result"
    }
   ],
   "source": [
    "df =pd.DataFrame(result)\n",
    "df"
   ]
  },
  {
   "cell_type": "code",
   "execution_count": 20,
   "metadata": {},
   "outputs": [
    {
     "data": {
      "text/html": [
       "<div>\n",
       "<style scoped>\n",
       "    .dataframe tbody tr th:only-of-type {\n",
       "        vertical-align: middle;\n",
       "    }\n",
       "\n",
       "    .dataframe tbody tr th {\n",
       "        vertical-align: top;\n",
       "    }\n",
       "\n",
       "    .dataframe thead th {\n",
       "        text-align: right;\n",
       "    }\n",
       "</style>\n",
       "<table border=\"1\" class=\"dataframe\">\n",
       "  <thead>\n",
       "    <tr style=\"text-align: right;\">\n",
       "      <th></th>\n",
       "      <th>순위</th>\n",
       "      <th>곡명</th>\n",
       "      <th>가수</th>\n",
       "    </tr>\n",
       "  </thead>\n",
       "  <tbody>\n",
       "    <tr>\n",
       "      <th>0</th>\n",
       "      <td>1</td>\n",
       "      <td>퀸카 (Queencard)</td>\n",
       "      <td>(여자)아이들</td>\n",
       "    </tr>\n",
       "    <tr>\n",
       "      <th>1</th>\n",
       "      <td>2</td>\n",
       "      <td>I AM</td>\n",
       "      <td>IVE (아이브)</td>\n",
       "    </tr>\n",
       "    <tr>\n",
       "      <th>2</th>\n",
       "      <td>3</td>\n",
       "      <td>Spicy</td>\n",
       "      <td>aespa</td>\n",
       "    </tr>\n",
       "    <tr>\n",
       "      <th>3</th>\n",
       "      <td>4</td>\n",
       "      <td>이브, 프시케 그리고 푸른 수염의 아내</td>\n",
       "      <td>LE SSERAFIM (르세라핌)</td>\n",
       "    </tr>\n",
       "    <tr>\n",
       "      <th>4</th>\n",
       "      <td>5</td>\n",
       "      <td>UNFORGIVEN (feat. Nile Rodgers)</td>\n",
       "      <td>LE SSERAFIM (르세라핌)</td>\n",
       "    </tr>\n",
       "    <tr>\n",
       "      <th>...</th>\n",
       "      <td>...</td>\n",
       "      <td>...</td>\n",
       "      <td>...</td>\n",
       "    </tr>\n",
       "    <tr>\n",
       "      <th>95</th>\n",
       "      <td>96</td>\n",
       "      <td>FEARLESS</td>\n",
       "      <td>LE SSERAFIM (르세라핌)</td>\n",
       "    </tr>\n",
       "    <tr>\n",
       "      <th>96</th>\n",
       "      <td>97</td>\n",
       "      <td>내가 아니라도</td>\n",
       "      <td>주호</td>\n",
       "    </tr>\n",
       "    <tr>\n",
       "      <th>97</th>\n",
       "      <td>98</td>\n",
       "      <td>당신을 만나</td>\n",
       "      <td>김호중</td>\n",
       "    </tr>\n",
       "    <tr>\n",
       "      <th>98</th>\n",
       "      <td>99</td>\n",
       "      <td>정이라고 하자 (Feat. 10CM)</td>\n",
       "      <td>BIG Naughty (서동현)</td>\n",
       "    </tr>\n",
       "    <tr>\n",
       "      <th>99</th>\n",
       "      <td>100</td>\n",
       "      <td>나의 목소리로</td>\n",
       "      <td>김호중</td>\n",
       "    </tr>\n",
       "  </tbody>\n",
       "</table>\n",
       "<p>100 rows × 3 columns</p>\n",
       "</div>"
      ],
      "text/plain": [
       "     순위                               곡명                  가수\n",
       "0     1                   퀸카 (Queencard)             (여자)아이들\n",
       "1     2                             I AM           IVE (아이브)\n",
       "2     3                            Spicy               aespa\n",
       "3     4            이브, 프시케 그리고 푸른 수염의 아내  LE SSERAFIM (르세라핌)\n",
       "4     5  UNFORGIVEN (feat. Nile Rodgers)  LE SSERAFIM (르세라핌)\n",
       "..  ...                              ...                 ...\n",
       "95   96                         FEARLESS  LE SSERAFIM (르세라핌)\n",
       "96   97                          내가 아니라도                  주호\n",
       "97   98                           당신을 만나                 김호중\n",
       "98   99             정이라고 하자 (Feat. 10CM)   BIG Naughty (서동현)\n",
       "99  100                          나의 목소리로                 김호중\n",
       "\n",
       "[100 rows x 3 columns]"
      ]
     },
     "execution_count": 20,
     "metadata": {},
     "output_type": "execute_result"
    }
   ],
   "source": [
    "df.columns = ['순위', '곡명', '가수']\n",
    "\n",
    "df"
   ]
  },
  {
   "cell_type": "code",
   "execution_count": 21,
   "metadata": {},
   "outputs": [],
   "source": [
    "#데이터프레임을 csv 저장\n",
    "df.to_csv('./melon_ranking_100.csv', encoding='utf-8', index=False)"
   ]
  },
  {
   "attachments": {},
   "cell_type": "markdown",
   "metadata": {},
   "source": [
    "##### 셀리니움만으로 크롤링"
   ]
  },
  {
   "cell_type": "code",
   "execution_count": 22,
   "metadata": {},
   "outputs": [
    {
     "name": "stdout",
     "output_type": "stream",
     "text": [
      "1 퀸카 (Queencard) (여자)아이들\n",
      "2 I AM IVE (아이브)\n",
      "3 Spicy aespa\n",
      "4 이브, 프시케 그리고 푸른 수염의 아내 LE SSERAFIM (르세라핌)\n",
      "5 UNFORGIVEN (feat. Nile Rodgers) LE SSERAFIM (르세라핌)\n",
      "6 Kitsch IVE (아이브)\n",
      "7 사랑은 늘 도망가 임영웅\n",
      "8 모래 알갱이 임영웅\n",
      "9 헤어지자 말해요 박재정\n",
      "10 우리들의 블루스 임영웅\n",
      "11 Hype boy NewJeans\n",
      "12 다시 만날 수 있을까 임영웅\n",
      "13 무지개 임영웅\n",
      "14 London Boy 임영웅\n",
      "15 꽃 지수 (JISOO)\n",
      "16 손오공 세븐틴 (SEVENTEEN)\n",
      "17 이제 나만 믿어요 임영웅\n",
      "18 Polaroid 임영웅\n",
      "19 아버지 임영웅\n",
      "20 Ditto NewJeans\n",
      "21 인생찬가 임영웅\n",
      "22 A bientot 임영웅\n",
      "23 손이 참 곱던 그대 임영웅\n",
      "24 사랑해 진짜 임영웅\n",
      "25 Cupid FIFTY FIFTY\n",
      "26 연애편지 임영웅\n",
      "27 OMG NewJeans\n",
      "28 보금자리 임영웅\n",
      "29 사건의 지평선 윤하 (YOUNHA)\n",
      "30 Allergy (여자)아이들\n",
      "31 파이팅 해야지 (Feat. 이영지) 부석순 (SEVENTEEN)\n",
      "32 I Don't Think That I Like Her Charlie Puth\n",
      "33 Dangerously Charlie Puth\n",
      "34 Candy NCT DREAM\n",
      "35 Dynamite 방탄소년단\n",
      "36 After LIKE IVE (아이브)\n",
      "37 Attention NewJeans\n",
      "38 물론 허각\n",
      "39 Take Two 방탄소년단\n",
      "40 LOVE DIVE IVE (아이브)\n",
      "41 Teddy Bear STAYC(스테이씨)\n",
      "42 심(心) DK(디셈버)\n",
      "43 Butter 방탄소년단\n",
      "44 사랑..그게 뭔데 지아\n",
      "45 사랑하지 않아서 그랬어 임한별\n",
      "46 사람 Pt.2 (feat. 아이유) Agust D\n",
      "47 Like Crazy 지민\n",
      "48 ANTIFRAGILE LE SSERAFIM (르세라핌)\n",
      "49 Broken Melodies NCT DREAM\n",
      "50 잠깐 시간 될까 이무진\n",
      "51 봄날 방탄소년단\n",
      "52 나에게 그대만이 탑현\n",
      "53 HARD SHINee (샤이니)\n",
      "54 사랑인가 봐 멜로망스\n",
      "55 Heaven(2023) 임재현\n",
      "56 Permission to Dance 방탄소년단\n",
      "57 The Planet 방탄소년단\n",
      "58 사실말야내가말야그게그러니까말이야 케이시 (Kassy)\n",
      "59 빛이 나는 너에게 던 (DAWN)\n",
      "60 너의 모든 순간 성시경\n",
      "61 NIGHT DANCER imase\n",
      "62 Angel Pt. 1 (Feat. Kodak Black, NLE Choppa, JVKE, Muni Long) Fast & Furious: The Fast Saga, 지민\n",
      "63 찬란한 하루 멜로망스\n",
      "64 Dreamers [Music from the FIFA World Cup Qatar 2022 Official Soundtrack] (Feat. FIFA Sound) 정국, 방탄소년단\n",
      "65 건물 사이에 피어난 장미 (Rose Blossom) H1-KEY (하이키)\n",
      "66 사랑의 바보 제이세라\n",
      "67 첫 키스에 내 심장은 120BPM 경서\n",
      "68 KNOCK 이채연\n",
      "69 Thirsty aespa\n",
      "70 That's Hilarious Charlie Puth\n",
      "71 STAY The Kid LAROI, Justin Bieber\n",
      "72 사랑하지 않아서 그랬니 지아\n",
      "73 TOMBOY (여자)아이들\n",
      "74 on the street (with J. Cole) j-hope, J. Cole\n",
      "75 그중에 그대를 만나 김호중\n",
      "76 Nxde (여자)아이들\n",
      "77 부동의 첫사랑 10CM\n",
      "78 한사람만 (2023) (여름날 우리 X 이홍기 (FT아일랜드)) 이홍기 (FT아일랜드)\n",
      "79 안녕이라고 말하지마 V.O.S\n",
      "80 나의 바람 (Wind And Wish) 비투비\n",
      "81 해요 (2022) #안녕\n",
      "82 취중고백 김민석 (멜로망스)\n",
      "83 That’s Not How This Works (feat. Dan + Shay) Charlie Puth\n",
      "84 CHRISTIAN Zior Park\n",
      "85 한강에서 (Feat. BIG Naughty) 폴킴\n",
      "86 사랑하기 싫어 지아\n",
      "87 FRIEND THE END 볼빨간사춘기\n",
      "88 Hate Rodrigo (Feat. 우기 ((여자)아이들)) YENA (최예나)\n",
      "89 Monologue 테이\n",
      "90 그라데이션 10CM\n",
      "91 다정히 내 이름을 부르면 경서예지, 전건호\n",
      "92 LOCKDOWN 이세계아이돌\n",
      "93 ELEVEN IVE (아이브)\n",
      "94 Love Me Like This NMIXX\n",
      "95 Shut Down BLACKPINK\n",
      "96 FEARLESS LE SSERAFIM (르세라핌)\n",
      "97 내가 아니라도 주호\n",
      "98 당신을 만나 김호중, 송가인\n",
      "99 정이라고 하자 (Feat. 10CM) BIG Naughty (서동현)\n",
      "100 나의 목소리로 김호중\n"
     ]
    }
   ],
   "source": [
    "from selenium.webdriver.common.by import By\n",
    "\n",
    "s_songs = driver.find_elements(By.XPATH, '//table/tbody/tr')\n",
    "\n",
    "for song in s_songs:\n",
    "    # print(song.text.split('\\n'))\n",
    "    tmp = song.text.split('\\n')\n",
    "    rank = tmp[0]\n",
    "    title = tmp[-5]\n",
    "    singer = tmp[-4]\n",
    "    print(rank, title, singer)\n"
   ]
  },
  {
   "attachments": {},
   "cell_type": "markdown",
   "metadata": {},
   "source": [
    "##### 벅스 인기차트 TOP100 크롤링"
   ]
  },
  {
   "cell_type": "code",
   "execution_count": 23,
   "metadata": {},
   "outputs": [],
   "source": [
    "driver = webdriver.Chrome()\n",
    "driver.get('https://music.bugs.co.kr/chart')"
   ]
  },
  {
   "cell_type": "code",
   "execution_count": 24,
   "metadata": {},
   "outputs": [],
   "source": [
    "## 벅스차트 html 가져오기\n",
    "html = driver.page_source\n",
    "soup = BeautifulSoup(html, 'html.parser')"
   ]
  },
  {
   "cell_type": "code",
   "execution_count": 25,
   "metadata": {},
   "outputs": [
    {
     "name": "stdout",
     "output_type": "stream",
     "text": [
      "100\n"
     ]
    }
   ],
   "source": [
    "# 벅스 페이지 내에 table이 두 개 존재하므로 table의 클래스명까지 검색해야지 차트 100개 나옴\n",
    "\n",
    "songs = soup.select('table.byChart > tbody > tr')\n",
    "print(len(songs))"
   ]
  },
  {
   "cell_type": "code",
   "execution_count": 26,
   "metadata": {},
   "outputs": [
    {
     "name": "stdout",
     "output_type": "stream",
     "text": [
      "1 퀸카 (Queencard) (여자)아이들\n",
      "2 I AM IVE (아이브)\n",
      "3 이브, 프시케 그리고 푸른 수염의 아내 LE SSERAFIM (르세라핌)\n",
      "4 Spicy aespa\n",
      "5 HARD SHINee (샤이니)\n",
      "6 Kitsch IVE (아이브)\n",
      "7 UNFORGIVEN (feat. Nile Rodgers) LE SSERAFIM (르세라핌)\n",
      "8 Hype Boy NewJeans\n",
      "9 Steal The Show (From “엘리멘탈”) Lauv(라우브)\n",
      "10 헤어지자 말해요 박재정\n",
      "11 Ditto NewJeans\n",
      "12 Cupid FIFTY FIFTY\n",
      "13 Attention NewJeans\n",
      "14 손오공 세븐틴(SEVENTEEN)\n",
      "15 OMG NewJeans\n",
      "16 Dangerously Charlie Puth(찰리 푸스)\n",
      "17 After LIKE IVE (아이브)\n",
      "18 Hate Rodrigo (Feat. 우기 ((여자)아이들)) YENA (최예나)\n",
      "19 Thirsty aespa\n",
      "20 LOVE DIVE IVE (아이브)\n",
      "21 꽃 지수(JISOO)\n",
      "22 I Don’t Think That I Like Her Charlie Puth(찰리 푸스)\n",
      "23 사건의 지평선 윤하(Younha/ユンナ)\n",
      "24 KNOCK 이채연\n",
      "25 건물 사이에 피어난 장미 (Rose Blossom) H1-KEY (하이키)\n",
      "26 파이팅 해야지 (Feat. 이영지) 부석순(SEVENTEEN)\n",
      "27 Teddy Bear STAYC(스테이씨)\n",
      "28 Satellite SHINee (샤이니)\n",
      "29 ANTIFRAGILE LE SSERAFIM (르세라핌)\n",
      "30 Allergy (여자)아이들\n",
      "31 That’s Not How This Works (feat. Dan + Shay) Charlie Puth(찰리 푸스)\n",
      "32 잠깐 시간 될까 이무진\n",
      "33 한 페이지가 될 수 있게 DAY6 (데이식스)\n",
      "34 심(心) DK(디셈버)\n",
      "35 JUICE SHINee (샤이니)\n",
      "36 STAY The Kid LAROI\n",
      "37 When I Get Old Christopher(크리스토퍼)\n",
      "38 빛이 나는 너에게 던 (DAWN)\n",
      "39 오르트구름 윤하(Younha/ユンナ)\n",
      "40 주저하는 연인들을 위해 잔나비\n",
      "41 That's Hilarious Charlie Puth(찰리 푸스)\n",
      "42 Shut Down BLACKPINK\n",
      "43 SOS 강다니엘(KANG DANIEL)\n",
      "44 사랑인가 봐 멜로망스(MeloMance)\n",
      "45 그라데이션 10CM\n",
      "46 Love Me Like This NMIXX\n",
      "47 나의 바람 (Wind And Wish) 비투비\n",
      "48 FEARLESS LE SSERAFIM (르세라핌)\n",
      "49 Pink Venom BLACKPINK\n",
      "50 찬란한 하루 멜로망스(MeloMance)\n",
      "51 TOMBOY (여자)아이들\n",
      "52 너의 모든 순간 성시경\n",
      "53 Cupid (Twin Ver.) FIFTY FIFTY\n",
      "54 10X SHINee (샤이니)\n",
      "55 Nxde (여자)아이들\n",
      "56 Candy NCT DREAM\n",
      "57 Cookie NewJeans\n",
      "58 모든 날, 모든 순간 (Every day, Every Moment) 폴킴(Paul Kim)\n",
      "59 Like It SHINee (샤이니)\n",
      "60 특 Stray Kids (스트레이 키즈)\n",
      "61 Salty & Sweet aespa\n",
      "62 사실말야내가말야그게그러니까말이야 케이시\n",
      "63 CHRISTIAN 지올팍(Zior Park)\n",
      "64 INVU 태연 (TAEYEON)\n",
      "65 사랑의 바보 제이세라(J-Cera)\n",
      "66 한강에서 (Feat. BIG Naughty) 폴킴(Paul Kim)\n",
      "67 Off My Face Justin Bieber(저스틴 비버)\n",
      "68 사랑하지 않아서 그랬니 지아(Zia)\n",
      "69 취중고백 김민석 (멜로망스)\n",
      "70 ELEVEN IVE (아이브)\n",
      "71 다정히 내 이름을 부르면 경서예지\n",
      "72 The Feeling SHINee (샤이니)\n",
      "73 도깨비불 (Illusion) aespa\n",
      "74 Dynamite 방탄소년단\n",
      "75 Identity SHINee (샤이니)\n",
      "76 정이라고 하자 (Feat. 10CM) BIG Naughty (서동현)\n",
      "77 나에게 그대만이 탑현\n",
      "78 새삥 (Prod. ZICO) (Feat. 호미들) 지코 (ZICO)\n",
      "79 BAD HOBBY YENA (최예나)\n",
      "80 Broken Melodies NCT DREAM\n",
      "81 VIBE (feat. Jimin of BTS) 태양\n",
      "82 Monologue 테이(Tei)\n",
      "83 그때 그 순간 그대로 (그그그) WSG워너비 (가야G)\n",
      "84 WHEN I MOVE 카라(Kara)\n",
      "85 나의 X에게 경서\n",
      "86 사랑은 늘 도망가 임영웅\n",
      "87 Say I Love You 우디(Woody)\n",
      "88 물론 허각\n",
      "89 Heaven(2023) 임재현\n",
      "90 부동의 첫사랑 10CM\n",
      "91 Feel My Rhythm Red Velvet (레드벨벳)\n",
      "92 해요 (2022) #안녕\n",
      "93 Unholy Sam Smith(샘 스미스)\n",
      "94 희재 이홍기 (FT아일랜드)\n",
      "95 strawberry moon 아이유(IU)\n",
      "96 Sweet Misery SHINee (샤이니)\n",
      "97 사랑..그게 뭔데 지아(Zia)\n",
      "98 Candy (Feat. Zion.T) 박재범\n",
      "99 Poppy (Korean Ver.) STAYC(스테이씨)\n",
      "100 Gravity SHINee (샤이니)\n"
     ]
    }
   ],
   "source": [
    "for song in songs:\n",
    "    rank= song.select('td > div.ranking > strong')[0].text\n",
    "    title = song.select('p.title > a')[0].text\n",
    "    singer = song.select('p.artist > a')[0].text\n",
    "    \n",
    "    print(rank, title, singer)"
   ]
  }
 ],
 "metadata": {
  "kernelspec": {
   "display_name": "Python 3",
   "language": "python",
   "name": "python3"
  },
  "language_info": {
   "codemirror_mode": {
    "name": "ipython",
    "version": 3
   },
   "file_extension": ".py",
   "mimetype": "text/x-python",
   "name": "python",
   "nbconvert_exporter": "python",
   "pygments_lexer": "ipython3",
   "version": "3.11.4"
  },
  "orig_nbformat": 4,
  "vscode": {
   "interpreter": {
    "hash": "5238573367df39f7286bb46f9ff5f08f63a01a80960060ce41e3c79b190280fa"
   }
  }
 },
 "nbformat": 4,
 "nbformat_minor": 2
}
