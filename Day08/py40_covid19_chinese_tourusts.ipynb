{
 "cells": [
  {
   "attachments": {},
   "cell_type": "markdown",
   "metadata": {},
   "source": [
    "#### 코로나 바이러스 영향을 중국인 관광객 증감분석\n",
    "\n",
    "##### 외국인 출입국 통계 데이터 \n",
    "\n",
    "한국관광 데이터랩 : https://datalab.visitkorea.or.kr/\n",
    "- 제공하는 csv파일을 추가작업으로 년월일 xlsx로 변경\n",
    "\n",
    "\n",
    "##### 엑셀데이터 로드\n",
    "기준 2019 1월 데이터"
   ]
  },
  {
   "cell_type": "code",
   "execution_count": 42,
   "metadata": {},
   "outputs": [
    {
     "name": "stdout",
     "output_type": "stream",
     "text": [
      "Requirement already satisfied: openpyxl in c:\\program files\\python311\\lib\\site-packages (3.1.2)\n",
      "Requirement already satisfied: et-xmlfile in c:\\program files\\python311\\lib\\site-packages (from openpyxl) (1.1.0)\n"
     ]
    }
   ],
   "source": [
    "# openpyxl 모듈 설치\n",
    "!pip install openpyxl"
   ]
  },
  {
   "cell_type": "code",
   "execution_count": 43,
   "metadata": {},
   "outputs": [],
   "source": [
    "# 데이터 분석용 모듈 임포트\n",
    "import pandas as pd\n",
    "import numpy as np"
   ]
  },
  {
   "cell_type": "code",
   "execution_count": null,
   "metadata": {},
   "outputs": [],
   "source": [
    "# 2019년 1월 엑셀데이터 로드\n",
    "# 전년동기 ~ 구성비까지의 컬럼은 필요없음\n",
    "# 행 전년동기 ~ 구성비까지 내용은 스킵\n",
    "kto_201901 = pd.read_excel('./raw/kto_201901.xlsx', header=1, usecols='A:G', skipfooter=4)\n",
    "\n",
    "kto_201901"
   ]
  },
  {
   "cell_type": "code",
   "execution_count": null,
   "metadata": {},
   "outputs": [],
   "source": [
    "kto_201901.tail()"
   ]
  },
  {
   "attachments": {},
   "cell_type": "markdown",
   "metadata": {},
   "source": [
    "#### 데이터 전처리"
   ]
  },
  {
   "cell_type": "code",
   "execution_count": null,
   "metadata": {},
   "outputs": [],
   "source": [
    "# 데이터 수와 타입\n",
    "kto_201901.info()"
   ]
  },
  {
   "cell_type": "code",
   "execution_count": null,
   "metadata": {},
   "outputs": [],
   "source": [
    "# 행과 열값 리턴\n",
    "kto_201901.describe()"
   ]
  },
  {
   "cell_type": "code",
   "execution_count": null,
   "metadata": {},
   "outputs": [],
   "source": [
    "# 수치통계\n",
    "kto_201901.describe()"
   ]
  },
  {
   "cell_type": "code",
   "execution_count": null,
   "metadata": {},
   "outputs": [],
   "source": [
    "# 각 컬럼 0 부분이 필터링 (체크)\n",
    "condition = (kto_201901['관광'] == 0) | \\\n",
    "            (kto_201901['상용'] == 0) | \\\n",
    "            (kto_201901['공용'] == 0) | \\\n",
    "            (kto_201901['유학/연수'] == 0) | \\\n",
    "            (kto_201901['기타'] == 0)\n",
    "            \n",
    "kto_201901_zero = kto_201901[condition]\n",
    "kto_201901_zero"
   ]
  },
  {
   "cell_type": "code",
   "execution_count": null,
   "metadata": {},
   "outputs": [],
   "source": [
    "# df에 기준년월 추가\n",
    "kto_201901['기준년월'] = '2019-01'\n",
    "kto_201901"
   ]
  },
  {
   "cell_type": "code",
   "execution_count": null,
   "metadata": {},
   "outputs": [],
   "source": [
    "# 국적데이터만 67개 중\n",
    "# unique()는 numpy.ndarray 변환\n",
    "# 원래 67개, unique() 67개 (의미없음)\n",
    "kto_201901['국적'].unique()"
   ]
  },
  {
   "cell_type": "code",
   "execution_count": 52,
   "metadata": {},
   "outputs": [
    {
     "data": {
      "text/plain": [
       "['아시아주', '미주', '구주', '대양주', '아프리카주', '기타대륙', '교포소계']"
      ]
     },
     "execution_count": 52,
     "metadata": {},
     "output_type": "execute_result"
    }
   ],
   "source": [
    "# 대륙 목록\n",
    "contients_list = ['아시아주', '미주', '구주', '대양주', '아프리카주', '기타대륙', '교포소계']\n",
    "\n",
    "contients_list"
   ]
  },
  {
   "cell_type": "code",
   "execution_count": null,
   "metadata": {},
   "outputs": [],
   "source": [
    "kto_201901[kto_201901['국적'].isin(contients_list) == False]"
   ]
  },
  {
   "cell_type": "code",
   "execution_count": null,
   "metadata": {},
   "outputs": [],
   "source": [
    "kto_201901_country = kto_201901[(kto_201901.국적.isin(contients_list) == False)]\n",
    "# kto_201901_country.국적.unique()\n",
    "kto_201901_country"
   ]
  },
  {
   "cell_type": "code",
   "execution_count": null,
   "metadata": {},
   "outputs": [],
   "source": [
    "kto_201901_country.국적.unique()"
   ]
  },
  {
   "cell_type": "code",
   "execution_count": null,
   "metadata": {},
   "outputs": [],
   "source": [
    "# 인덱스 재설정\n",
    "kto_201901_country_newindex = kto_201901_country.reset_index(drop = True)\n",
    "kto_201901_country_newindex.tail()"
   ]
  },
  {
   "cell_type": "code",
   "execution_count": null,
   "metadata": {},
   "outputs": [],
   "source": [
    "# 대륙컬럼 다시 만들기\n",
    "contients = ['아시아'] * 25 + ['아메리카'] * 5 + ['유럽'] * 23 + ['오세아니아'] * 3 + ['아프리카'] * 2 + ['기타'] + ['교포']\n",
    "\n",
    "print(contients)"
   ]
  },
  {
   "cell_type": "code",
   "execution_count": null,
   "metadata": {},
   "outputs": [],
   "source": [
    "kto_201901_country_newindex['대륙'] = contients\n",
    "kto_201901_country_newindex.head()"
   ]
  },
  {
   "cell_type": "code",
   "execution_count": null,
   "metadata": {},
   "outputs": [],
   "source": [
    "kto_201901_country_newindex['대륙'] = contients\n",
    "kto_201901_country_newindex.tail()"
   ]
  },
  {
   "cell_type": "code",
   "execution_count": null,
   "metadata": {},
   "outputs": [],
   "source": [
    "# 국적별 관광객 비율\n",
    "# 관광, 상용, 공용, 유학/연수, 기타 중 관광\n",
    "# kto_201901_country_newindex.관광 # 밑에랑 똑같음\n",
    "kto_201901_country_newindex['관광객비율(%)'] = \\\n",
    "    round((kto_201901_country_newindex['관광'] / kto_201901_country_newindex['계']) * 100, 1) #소수점 첫째자리까지\n",
    "\n",
    "kto_201901_country_newindex"
   ]
  },
  {
   "cell_type": "code",
   "execution_count": 71,
   "metadata": {},
   "outputs": [
    {
     "data": {
      "text/html": [
       "<div>\n",
       "<style scoped>\n",
       "    .dataframe tbody tr th:only-of-type {\n",
       "        vertical-align: middle;\n",
       "    }\n",
       "\n",
       "    .dataframe tbody tr th {\n",
       "        vertical-align: top;\n",
       "    }\n",
       "\n",
       "    .dataframe thead th {\n",
       "        text-align: right;\n",
       "    }\n",
       "</style>\n",
       "<table border=\"1\" class=\"dataframe\">\n",
       "  <thead>\n",
       "    <tr style=\"text-align: right;\">\n",
       "      <th></th>\n",
       "      <th>국적</th>\n",
       "      <th>관광</th>\n",
       "      <th>상용</th>\n",
       "      <th>공용</th>\n",
       "      <th>유학/연수</th>\n",
       "      <th>기타</th>\n",
       "      <th>계</th>\n",
       "      <th>기준년월</th>\n",
       "      <th>대륙</th>\n",
       "      <th>관광객비율(%)</th>\n",
       "    </tr>\n",
       "  </thead>\n",
       "  <tbody>\n",
       "    <tr>\n",
       "      <th>1</th>\n",
       "      <td>대만</td>\n",
       "      <td>86393</td>\n",
       "      <td>74</td>\n",
       "      <td>22</td>\n",
       "      <td>180</td>\n",
       "      <td>1285</td>\n",
       "      <td>87954</td>\n",
       "      <td>2019-01</td>\n",
       "      <td>아시아</td>\n",
       "      <td>98.2</td>\n",
       "    </tr>\n",
       "    <tr>\n",
       "      <th>3</th>\n",
       "      <td>마카오</td>\n",
       "      <td>2506</td>\n",
       "      <td>2</td>\n",
       "      <td>0</td>\n",
       "      <td>17</td>\n",
       "      <td>45</td>\n",
       "      <td>2570</td>\n",
       "      <td>2019-01</td>\n",
       "      <td>아시아</td>\n",
       "      <td>97.5</td>\n",
       "    </tr>\n",
       "    <tr>\n",
       "      <th>2</th>\n",
       "      <td>홍콩</td>\n",
       "      <td>34653</td>\n",
       "      <td>59</td>\n",
       "      <td>2</td>\n",
       "      <td>90</td>\n",
       "      <td>1092</td>\n",
       "      <td>35896</td>\n",
       "      <td>2019-01</td>\n",
       "      <td>아시아</td>\n",
       "      <td>96.5</td>\n",
       "    </tr>\n",
       "    <tr>\n",
       "      <th>0</th>\n",
       "      <td>일본</td>\n",
       "      <td>198805</td>\n",
       "      <td>2233</td>\n",
       "      <td>127</td>\n",
       "      <td>785</td>\n",
       "      <td>4576</td>\n",
       "      <td>206526</td>\n",
       "      <td>2019-01</td>\n",
       "      <td>아시아</td>\n",
       "      <td>96.3</td>\n",
       "    </tr>\n",
       "    <tr>\n",
       "      <th>55</th>\n",
       "      <td>대양주 기타</td>\n",
       "      <td>555</td>\n",
       "      <td>3</td>\n",
       "      <td>4</td>\n",
       "      <td>0</td>\n",
       "      <td>52</td>\n",
       "      <td>614</td>\n",
       "      <td>2019-01</td>\n",
       "      <td>오세아니아</td>\n",
       "      <td>90.4</td>\n",
       "    </tr>\n",
       "  </tbody>\n",
       "</table>\n",
       "</div>"
      ],
      "text/plain": [
       "        국적      관광    상용   공용  유학/연수    기타       계     기준년월     대륙  관광객비율(%)\n",
       "1       대만   86393    74   22    180  1285   87954  2019-01    아시아      98.2\n",
       "3      마카오    2506     2    0     17    45    2570  2019-01    아시아      97.5\n",
       "2       홍콩   34653    59    2     90  1092   35896  2019-01    아시아      96.5\n",
       "0       일본  198805  2233  127    785  4576  206526  2019-01    아시아      96.3\n",
       "55  대양주 기타     555     3    4      0    52     614  2019-01  오세아니아      90.4"
      ]
     },
     "execution_count": 71,
     "metadata": {},
     "output_type": "execute_result"
    }
   ],
   "source": [
    "# 분석 - 관광객 비율이 높은 국가와 낮은 국가\n",
    "kto_201901_country_newindex.sort_values(by = '관광객비율(%)', ascending=False).head()"
   ]
  },
  {
   "cell_type": "code",
   "execution_count": 75,
   "metadata": {},
   "outputs": [
    {
     "data": {
      "text/html": [
       "<div>\n",
       "<style scoped>\n",
       "    .dataframe tbody tr th:only-of-type {\n",
       "        vertical-align: middle;\n",
       "    }\n",
       "\n",
       "    .dataframe tbody tr th {\n",
       "        vertical-align: top;\n",
       "    }\n",
       "\n",
       "    .dataframe thead th {\n",
       "        text-align: right;\n",
       "    }\n",
       "</style>\n",
       "<table border=\"1\" class=\"dataframe\">\n",
       "  <thead>\n",
       "    <tr style=\"text-align: right;\">\n",
       "      <th></th>\n",
       "      <th>관광객비율(%)</th>\n",
       "    </tr>\n",
       "    <tr>\n",
       "      <th>대륙</th>\n",
       "      <th></th>\n",
       "    </tr>\n",
       "  </thead>\n",
       "  <tbody>\n",
       "    <tr>\n",
       "      <th>교포</th>\n",
       "      <td>0.000000</td>\n",
       "    </tr>\n",
       "    <tr>\n",
       "      <th>기타</th>\n",
       "      <td>61.100000</td>\n",
       "    </tr>\n",
       "    <tr>\n",
       "      <th>아메리카</th>\n",
       "      <td>68.200000</td>\n",
       "    </tr>\n",
       "    <tr>\n",
       "      <th>아시아</th>\n",
       "      <td>59.624000</td>\n",
       "    </tr>\n",
       "    <tr>\n",
       "      <th>아프리카</th>\n",
       "      <td>32.700000</td>\n",
       "    </tr>\n",
       "    <tr>\n",
       "      <th>오세아니아</th>\n",
       "      <td>84.833333</td>\n",
       "    </tr>\n",
       "    <tr>\n",
       "      <th>유럽</th>\n",
       "      <td>63.826087</td>\n",
       "    </tr>\n",
       "  </tbody>\n",
       "</table>\n",
       "</div>"
      ],
      "text/plain": [
       "        관광객비율(%)\n",
       "대륙              \n",
       "교포      0.000000\n",
       "기타     61.100000\n",
       "아메리카   68.200000\n",
       "아시아    59.624000\n",
       "아프리카   32.700000\n",
       "오세아니아  84.833333\n",
       "유럽     63.826087"
      ]
     },
     "execution_count": 75,
     "metadata": {},
     "output_type": "execute_result"
    }
   ],
   "source": [
    "# 대륙별 관광객 비율\n",
    "kto_201901_country_newindex.pivot_table(values='관광객비율(%)', index='대륙', sort = False) # , aggfunc = 'mean',  sort = False는 대륙순서대로"
   ]
  },
  {
   "cell_type": "code",
   "execution_count": 76,
   "metadata": {},
   "outputs": [
    {
     "data": {
      "text/html": [
       "<div>\n",
       "<style scoped>\n",
       "    .dataframe tbody tr th:only-of-type {\n",
       "        vertical-align: middle;\n",
       "    }\n",
       "\n",
       "    .dataframe tbody tr th {\n",
       "        vertical-align: top;\n",
       "    }\n",
       "\n",
       "    .dataframe thead th {\n",
       "        text-align: right;\n",
       "    }\n",
       "</style>\n",
       "<table border=\"1\" class=\"dataframe\">\n",
       "  <thead>\n",
       "    <tr style=\"text-align: right;\">\n",
       "      <th></th>\n",
       "      <th>국적</th>\n",
       "      <th>관광</th>\n",
       "      <th>상용</th>\n",
       "      <th>공용</th>\n",
       "      <th>유학/연수</th>\n",
       "      <th>기타</th>\n",
       "      <th>계</th>\n",
       "      <th>기준년월</th>\n",
       "      <th>대륙</th>\n",
       "      <th>관광객비율(%)</th>\n",
       "    </tr>\n",
       "  </thead>\n",
       "  <tbody>\n",
       "    <tr>\n",
       "      <th>17</th>\n",
       "      <td>중국</td>\n",
       "      <td>320113</td>\n",
       "      <td>2993</td>\n",
       "      <td>138</td>\n",
       "      <td>8793</td>\n",
       "      <td>60777</td>\n",
       "      <td>392814</td>\n",
       "      <td>2019-01</td>\n",
       "      <td>아시아</td>\n",
       "      <td>81.5</td>\n",
       "    </tr>\n",
       "  </tbody>\n",
       "</table>\n",
       "</div>"
      ],
      "text/plain": [
       "    국적      관광    상용   공용  유학/연수     기타       계     기준년월   대륙  관광객비율(%)\n",
       "17  중국  320113  2993  138   8793  60777  392814  2019-01  아시아      81.5"
      ]
     },
     "execution_count": 76,
     "metadata": {},
     "output_type": "execute_result"
    }
   ],
   "source": [
    "# 중국 관광객만\n",
    "kto_201901_country_newindex[(kto_201901_country_newindex['국적'] == '중국')]"
   ]
  },
  {
   "cell_type": "code",
   "execution_count": 79,
   "metadata": {},
   "outputs": [
    {
     "data": {
      "text/plain": [
       "884293"
      ]
     },
     "execution_count": 79,
     "metadata": {},
     "output_type": "execute_result"
    }
   ],
   "source": [
    "# 전체 외국인 관광객 수\n",
    "tourist_sum = sum(kto_201901_country_newindex['관광'])\n",
    "tourist_sum"
   ]
  },
  {
   "cell_type": "code",
   "execution_count": null,
   "metadata": {},
   "outputs": [],
   "source": [
    "# 전체 비율\n",
    "\n",
    "kto_201901_country_newindex['전체비율(%)'] = \\\n",
    "    round((kto_201901_country_newindex['관광'] / tourist_sum ) * 100, 1)\n",
    "kto_201901_country_newindex.head()"
   ]
  },
  {
   "cell_type": "code",
   "execution_count": null,
   "metadata": {},
   "outputs": [],
   "source": [
    "# 관광객 전체비율이 높은 나라 내림차순 정렬\n",
    "kto_201901_country_newindex.sort_values('전체비율(%)', ascending=False).head() # ascending=False 내림차순"
   ]
  },
  {
   "attachments": {},
   "cell_type": "markdown",
   "metadata": {},
   "source": [
    "##### 위 내용을 자동화할 수 있는 함수 만들기\n",
    "\n",
    "125개 엑셀파일 전처리"
   ]
  },
  {
   "cell_type": "code",
   "execution_count": null,
   "metadata": {},
   "outputs": [],
   "source": [
    "# 엑셀 파일 데이터프레임으로 재정리 함수\n",
    "\n",
    "def create_kto_data(yyyy, mm):  # 년월 받아서 엑셀파일 오픈\n",
    "    \n",
    "    # 1. 엑셀파일 이름과 경로를 지정\n",
    "    file_path = f'./raw/kto_{yyyy+mm}.xlsx'\n",
    "    # print(file_path)\n",
    "    \n",
    "    # 2. 엑셀파일 불러오기\n",
    "    df = pd.read_excel(file_path, header=1, usecols='A:G', skipfooter=4)\n",
    "    \n",
    "    # 3. 기준년월 컬럼 추가\n",
    "    df['기준년월'] = f'{yyyy}-{mm}'\n",
    "    \n",
    "    # 4. 국적 컬럼에 대륙 제거 국가만 남기기\n",
    "    contients_list = ['아시아주', '미주', '구주', '대양주', '아프리카주', '기타대륙', '교포소계']\n",
    "    condition = df['국적'].isin(contients_list) == False\n",
    "    df_country = df[condition].reset_index(drop = True)\n",
    "    \n",
    "    # 5. 대륙 컬럼을 추가\n",
    "    contients = ['아시아'] * 25 + ['아메리카'] * 5 + ['유럽'] * 23 + ['오세아니아'] * 3 + ['아프리카'] * 2 + ['기타대륙'] + ['교포']\n",
    "    \n",
    "    df_country['대륙'] = contients\n",
    "    \n",
    "    # 6. 국가별 관광객비율(%) 컬럼추가\n",
    "    df_country['관광객비율(%)'] = round((df_country['관광'] / df_country['계']) * 100, 1)\n",
    "    \n",
    "    # 7. 전체비율(%) 추가\n",
    "    tourist_sum = sum(df_country['관광'])\n",
    "    df_country['전체비율(%)'] = round((df_country['관광'] / tourist_sum ) * 100, 1)\n",
    "    \n",
    "    # 8. 결과 출력\n",
    "    return df_country\n",
    "\n",
    "create_kto_data('2020','05')"
   ]
  },
  {
   "attachments": {},
   "cell_type": "markdown",
   "metadata": {},
   "source": [
    "##### 반복문으로 125개 엑셀 하나로 합치기"
   ]
  },
  {
   "cell_type": "code",
   "execution_count": null,
   "metadata": {},
   "outputs": [],
   "source": [
    "# kto_yyyymm.xlxs\n",
    "\n",
    "df = pd.DataFrame()\n",
    "\n",
    "for yyyy in range(2010, 2021): # 2020년까지니깐 +1 -> 2021을 넣어줘야 함\n",
    "    for mm in range(1, 13):\n",
    "        mm_str = str(mm).zfill(2)\n",
    "        yyyymm = f'{yyyy}{mm_str}'\n",
    "        if(yyyymm == '202006'): break\n",
    "        temp = create_kto_data(str(yyyy), mm_str)\n",
    "\n",
    "        print(yyyymm, temp.shape, sep='|')"
   ]
  }
 ],
 "metadata": {
  "kernelspec": {
   "display_name": "Python 3",
   "language": "python",
   "name": "python3"
  },
  "language_info": {
   "codemirror_mode": {
    "name": "ipython",
    "version": 3
   },
   "file_extension": ".py",
   "mimetype": "text/x-python",
   "name": "python",
   "nbconvert_exporter": "python",
   "pygments_lexer": "ipython3",
   "version": "3.11.4"
  },
  "orig_nbformat": 4,
  "vscode": {
   "interpreter": {
    "hash": "5238573367df39f7286bb46f9ff5f08f63a01a80960060ce41e3c79b190280fa"
   }
  }
 },
 "nbformat": 4,
 "nbformat_minor": 2
}
