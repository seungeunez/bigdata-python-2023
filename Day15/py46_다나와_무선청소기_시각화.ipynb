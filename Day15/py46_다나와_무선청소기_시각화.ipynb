{
 "cells": [
  {
   "attachments": {},
   "cell_type": "markdown",
   "metadata": {},
   "source": [
    "#### 다나와 무선청소기 데이터 시각화\n",
    "\n",
    "\n",
    "##### 시각화용 모듈 import"
   ]
  },
  {
   "cell_type": "code",
   "execution_count": 3,
   "metadata": {},
   "outputs": [],
   "source": [
    "import matplotlib\n",
    "# from matplotlib import pyplot as plt\n",
    "import matplotlib.pyplot as plt\n",
    "from matplotlib import font_manager, rc, rcParams\n",
    "import seaborn as sns\n",
    "\n",
    "import pandas as pd\n",
    "import numpy as np\n",
    "\n",
    "font_path = 'C:/Windows/Fonts/NanumGothic.ttf'\n",
    "font = font_manager.FontProperties(fname=font_path).get_name() # 'NanumGothic'\n",
    "rc('font', family=font)\n",
    "rcParams['axes.unicode_minus'] = False "
   ]
  },
  {
   "cell_type": "code",
   "execution_count": null,
   "metadata": {},
   "outputs": [],
   "source": [
    "# 데이터 가져오기\n",
    "df_product = pd.read_excel('./3_다나와_핸디스틱청소기_결과.xlsx')\n",
    "df_product"
   ]
  },
  {
   "cell_type": "code",
   "execution_count": null,
   "metadata": {},
   "outputs": [],
   "source": [
    "# 사용시간 기준 정렬 / 결측치 NaN가 있으면 정렬도 안되지만, 통계도 제대로 안나옴\n",
    "# \n",
    "df_product.sort_values(['사용시간'],ascending=True)"
   ]
  },
  {
   "cell_type": "code",
   "execution_count": null,
   "metadata": {},
   "outputs": [],
   "source": [
    "# 추가 전처리 사용시간, 흡입력이 NaN이면, 0.0으로 치환\n",
    "df_product.info()"
   ]
  },
  {
   "cell_type": "code",
   "execution_count": null,
   "metadata": {},
   "outputs": [],
   "source": [
    "# 사용시간 중에서 NaN 찾기\n",
    "df_product['사용시간'].isna()"
   ]
  },
  {
   "cell_type": "code",
   "execution_count": null,
   "metadata": {},
   "outputs": [],
   "source": [
    "# 사용시간 NaN을 0으로 대체 -> 결측치 제거하는 것 중에서 가장 일반적\n",
    "df_product['사용시간'].fillna(0)"
   ]
  },
  {
   "cell_type": "code",
   "execution_count": null,
   "metadata": {},
   "outputs": [],
   "source": [
    "df_product"
   ]
  },
  {
   "cell_type": "code",
   "execution_count": 10,
   "metadata": {},
   "outputs": [],
   "source": [
    "# 흡입력 NaN을 0으로 치환\n",
    "df_product['흡입력'].fillna(0, inplace=True)"
   ]
  },
  {
   "cell_type": "code",
   "execution_count": null,
   "metadata": {},
   "outputs": [],
   "source": [
    "# 사용시간 기준 정렬\n",
    "df_product.sort_values(['사용시간'], ascending=False)"
   ]
  },
  {
   "cell_type": "code",
   "execution_count": null,
   "metadata": {},
   "outputs": [],
   "source": [
    "# 흡입력 기준 정렬\n",
    "df_product.sort_values(['흡입력'], ascending=False)"
   ]
  },
  {
   "cell_type": "code",
   "execution_count": null,
   "metadata": {},
   "outputs": [],
   "source": [
    "# 가격 기준 정렬\n",
    "df_product.sort_values(['가격'], ascending=False)"
   ]
  },
  {
   "cell_type": "code",
   "execution_count": null,
   "metadata": {},
   "outputs": [],
   "source": [
    "# 흡입력 & 사용시간 TOP리스트\n",
    "top_list = df_product.sort_values(['흡입력', '사용시간'], ascending=False)\n",
    "top_list"
   ]
  },
  {
   "attachments": {},
   "cell_type": "markdown",
   "metadata": {},
   "source": [
    "#### 가성비 좋은 제품"
   ]
  },
  {
   "cell_type": "code",
   "execution_count": 18,
   "metadata": {},
   "outputs": [
    {
     "name": "stdout",
     "output_type": "stream",
     "text": [
      "가격 평균 : 418587.6005802708원, 사용시간 평균: 43.94660734149055분, 흡입력 평균: 116.90599613152806W\n"
     ]
    }
   ],
   "source": [
    "# 평균값 정리\n",
    "price_mean = df_product['가격'].mean()\n",
    "usetime_mean = df_product['사용시간'].mean()\n",
    "suction_mean = df_product['흡입력'].mean()\n",
    "print(f'가격 평균 : {price_mean}원, 사용시간 평균: {usetime_mean}분, 흡입력 평균: {suction_mean}W')"
   ]
  },
  {
   "cell_type": "code",
   "execution_count": 23,
   "metadata": {},
   "outputs": [
    {
     "data": {
      "text/html": [
       "<div>\n",
       "<style scoped>\n",
       "    .dataframe tbody tr th:only-of-type {\n",
       "        vertical-align: middle;\n",
       "    }\n",
       "\n",
       "    .dataframe tbody tr th {\n",
       "        vertical-align: top;\n",
       "    }\n",
       "\n",
       "    .dataframe thead th {\n",
       "        text-align: right;\n",
       "    }\n",
       "</style>\n",
       "<table border=\"1\" class=\"dataframe\">\n",
       "  <thead>\n",
       "    <tr style=\"text-align: right;\">\n",
       "      <th></th>\n",
       "      <th>카테고리</th>\n",
       "      <th>회사명</th>\n",
       "      <th>제품명</th>\n",
       "      <th>가격</th>\n",
       "      <th>사용시간</th>\n",
       "      <th>흡입력</th>\n",
       "    </tr>\n",
       "  </thead>\n",
       "  <tbody>\n",
       "    <tr>\n",
       "      <th>3</th>\n",
       "      <td>핸디스틱청소기</td>\n",
       "      <td>샤오미</td>\n",
       "      <td>드리미 V11</td>\n",
       "      <td>179000</td>\n",
       "      <td>90.0</td>\n",
       "      <td>250.0</td>\n",
       "    </tr>\n",
       "    <tr>\n",
       "      <th>17</th>\n",
       "      <td>핸디스틱청소기</td>\n",
       "      <td>샤오미</td>\n",
       "      <td>드리미 V10</td>\n",
       "      <td>153216</td>\n",
       "      <td>60.0</td>\n",
       "      <td>220.0</td>\n",
       "    </tr>\n",
       "    <tr>\n",
       "      <th>20</th>\n",
       "      <td>핸디스틱청소기</td>\n",
       "      <td>DIBEA</td>\n",
       "      <td>23년형 리뉴얼 차이슨 ALLNEW29000</td>\n",
       "      <td>239000</td>\n",
       "      <td>50.0</td>\n",
       "      <td>400.0</td>\n",
       "    </tr>\n",
       "    <tr>\n",
       "      <th>23</th>\n",
       "      <td>핸디스틱청소기</td>\n",
       "      <td>아이닉</td>\n",
       "      <td>NEW i20 (23년형)</td>\n",
       "      <td>169000</td>\n",
       "      <td>50.0</td>\n",
       "      <td>350.0</td>\n",
       "    </tr>\n",
       "    <tr>\n",
       "      <th>33</th>\n",
       "      <td>핸디스틱청소기</td>\n",
       "      <td>삼성전자</td>\n",
       "      <td>제트 VS20T92K3QD</td>\n",
       "      <td>412030</td>\n",
       "      <td>60.0</td>\n",
       "      <td>200.0</td>\n",
       "    </tr>\n",
       "    <tr>\n",
       "      <th>...</th>\n",
       "      <td>...</td>\n",
       "      <td>...</td>\n",
       "      <td>...</td>\n",
       "      <td>...</td>\n",
       "      <td>...</td>\n",
       "      <td>...</td>\n",
       "    </tr>\n",
       "    <tr>\n",
       "      <th>922</th>\n",
       "      <td>핸디스틱청소기</td>\n",
       "      <td>샤오미</td>\n",
       "      <td>디어마 VC20 프로</td>\n",
       "      <td>179990</td>\n",
       "      <td>50.0</td>\n",
       "      <td>170.0</td>\n",
       "    </tr>\n",
       "    <tr>\n",
       "      <th>925</th>\n",
       "      <td>핸디스틱청소기</td>\n",
       "      <td>샤오미</td>\n",
       "      <td>G10 라이트</td>\n",
       "      <td>338000</td>\n",
       "      <td>45.0</td>\n",
       "      <td>170.0</td>\n",
       "    </tr>\n",
       "    <tr>\n",
       "      <th>940</th>\n",
       "      <td>핸디스틱청소기</td>\n",
       "      <td>SINOLINK</td>\n",
       "      <td>V20 프로</td>\n",
       "      <td>166000</td>\n",
       "      <td>45.0</td>\n",
       "      <td>200.0</td>\n",
       "    </tr>\n",
       "    <tr>\n",
       "      <th>942</th>\n",
       "      <td>핸디스틱청소기</td>\n",
       "      <td>샤오미</td>\n",
       "      <td>미지아 1C SCWXCQ02ZHM</td>\n",
       "      <td>252740</td>\n",
       "      <td>60.0</td>\n",
       "      <td>200.0</td>\n",
       "    </tr>\n",
       "    <tr>\n",
       "      <th>948</th>\n",
       "      <td>핸디스틱청소기</td>\n",
       "      <td>JDL</td>\n",
       "      <td>tech 타이푼 DV-889DC-X</td>\n",
       "      <td>139000</td>\n",
       "      <td>50.0</td>\n",
       "      <td>200.0</td>\n",
       "    </tr>\n",
       "  </tbody>\n",
       "</table>\n",
       "<p>98 rows × 6 columns</p>\n",
       "</div>"
      ],
      "text/plain": [
       "        카테고리       회사명                       제품명      가격  사용시간    흡입력\n",
       "3    핸디스틱청소기       샤오미                   드리미 V11  179000  90.0  250.0\n",
       "17   핸디스틱청소기       샤오미                   드리미 V10  153216  60.0  220.0\n",
       "20   핸디스틱청소기     DIBEA  23년형 리뉴얼 차이슨 ALLNEW29000  239000  50.0  400.0\n",
       "23   핸디스틱청소기       아이닉            NEW i20 (23년형)  169000  50.0  350.0\n",
       "33   핸디스틱청소기      삼성전자            제트 VS20T92K3QD  412030  60.0  200.0\n",
       "..       ...       ...                       ...     ...   ...    ...\n",
       "922  핸디스틱청소기       샤오미               디어마 VC20 프로  179990  50.0  170.0\n",
       "925  핸디스틱청소기       샤오미                   G10 라이트  338000  45.0  170.0\n",
       "940  핸디스틱청소기  SINOLINK                    V20 프로  166000  45.0  200.0\n",
       "942  핸디스틱청소기       샤오미        미지아 1C SCWXCQ02ZHM  252740  60.0  200.0\n",
       "948  핸디스틱청소기       JDL       tech 타이푼 DV-889DC-X  139000  50.0  200.0\n",
       "\n",
       "[98 rows x 6 columns]"
      ]
     },
     "execution_count": 23,
     "metadata": {},
     "output_type": "execute_result"
    }
   ],
   "source": [
    "condition = (df_product['가격'] <= price_mean) & (df_product['사용시간'] >= usetime_mean) & (df_product['흡입력'] >= suction_mean)\n",
    "\n",
    "df_bestratio = df_product[condition]\n",
    "df_bestratio"
   ]
  },
  {
   "cell_type": "code",
   "execution_count": 24,
   "metadata": {},
   "outputs": [
    {
     "data": {
      "text/html": [
       "<div>\n",
       "<style scoped>\n",
       "    .dataframe tbody tr th:only-of-type {\n",
       "        vertical-align: middle;\n",
       "    }\n",
       "\n",
       "    .dataframe tbody tr th {\n",
       "        vertical-align: top;\n",
       "    }\n",
       "\n",
       "    .dataframe thead th {\n",
       "        text-align: right;\n",
       "    }\n",
       "</style>\n",
       "<table border=\"1\" class=\"dataframe\">\n",
       "  <thead>\n",
       "    <tr style=\"text-align: right;\">\n",
       "      <th></th>\n",
       "      <th>카테고리</th>\n",
       "      <th>회사명</th>\n",
       "      <th>제품명</th>\n",
       "      <th>가격</th>\n",
       "      <th>사용시간</th>\n",
       "      <th>흡입력</th>\n",
       "    </tr>\n",
       "  </thead>\n",
       "  <tbody>\n",
       "    <tr>\n",
       "      <th>3</th>\n",
       "      <td>핸디스틱청소기</td>\n",
       "      <td>샤오미</td>\n",
       "      <td>드리미 V11</td>\n",
       "      <td>179000</td>\n",
       "      <td>90.0</td>\n",
       "      <td>250.0</td>\n",
       "    </tr>\n",
       "    <tr>\n",
       "      <th>17</th>\n",
       "      <td>핸디스틱청소기</td>\n",
       "      <td>샤오미</td>\n",
       "      <td>드리미 V10</td>\n",
       "      <td>153216</td>\n",
       "      <td>60.0</td>\n",
       "      <td>220.0</td>\n",
       "    </tr>\n",
       "    <tr>\n",
       "      <th>20</th>\n",
       "      <td>핸디스틱청소기</td>\n",
       "      <td>DIBEA</td>\n",
       "      <td>23년형 리뉴얼 차이슨 ALLNEW29000</td>\n",
       "      <td>239000</td>\n",
       "      <td>50.0</td>\n",
       "      <td>400.0</td>\n",
       "    </tr>\n",
       "    <tr>\n",
       "      <th>23</th>\n",
       "      <td>핸디스틱청소기</td>\n",
       "      <td>아이닉</td>\n",
       "      <td>NEW i20 (23년형)</td>\n",
       "      <td>169000</td>\n",
       "      <td>50.0</td>\n",
       "      <td>350.0</td>\n",
       "    </tr>\n",
       "    <tr>\n",
       "      <th>33</th>\n",
       "      <td>핸디스틱청소기</td>\n",
       "      <td>삼성전자</td>\n",
       "      <td>제트 VS20T92K3QD</td>\n",
       "      <td>412030</td>\n",
       "      <td>60.0</td>\n",
       "      <td>200.0</td>\n",
       "    </tr>\n",
       "    <tr>\n",
       "      <th>...</th>\n",
       "      <td>...</td>\n",
       "      <td>...</td>\n",
       "      <td>...</td>\n",
       "      <td>...</td>\n",
       "      <td>...</td>\n",
       "      <td>...</td>\n",
       "    </tr>\n",
       "    <tr>\n",
       "      <th>922</th>\n",
       "      <td>핸디스틱청소기</td>\n",
       "      <td>샤오미</td>\n",
       "      <td>디어마 VC20 프로</td>\n",
       "      <td>179990</td>\n",
       "      <td>50.0</td>\n",
       "      <td>170.0</td>\n",
       "    </tr>\n",
       "    <tr>\n",
       "      <th>925</th>\n",
       "      <td>핸디스틱청소기</td>\n",
       "      <td>샤오미</td>\n",
       "      <td>G10 라이트</td>\n",
       "      <td>338000</td>\n",
       "      <td>45.0</td>\n",
       "      <td>170.0</td>\n",
       "    </tr>\n",
       "    <tr>\n",
       "      <th>940</th>\n",
       "      <td>핸디스틱청소기</td>\n",
       "      <td>SINOLINK</td>\n",
       "      <td>V20 프로</td>\n",
       "      <td>166000</td>\n",
       "      <td>45.0</td>\n",
       "      <td>200.0</td>\n",
       "    </tr>\n",
       "    <tr>\n",
       "      <th>942</th>\n",
       "      <td>핸디스틱청소기</td>\n",
       "      <td>샤오미</td>\n",
       "      <td>미지아 1C SCWXCQ02ZHM</td>\n",
       "      <td>252740</td>\n",
       "      <td>60.0</td>\n",
       "      <td>200.0</td>\n",
       "    </tr>\n",
       "    <tr>\n",
       "      <th>948</th>\n",
       "      <td>핸디스틱청소기</td>\n",
       "      <td>JDL</td>\n",
       "      <td>tech 타이푼 DV-889DC-X</td>\n",
       "      <td>139000</td>\n",
       "      <td>50.0</td>\n",
       "      <td>200.0</td>\n",
       "    </tr>\n",
       "  </tbody>\n",
       "</table>\n",
       "<p>98 rows × 6 columns</p>\n",
       "</div>"
      ],
      "text/plain": [
       "        카테고리       회사명                       제품명      가격  사용시간    흡입력\n",
       "3    핸디스틱청소기       샤오미                   드리미 V11  179000  90.0  250.0\n",
       "17   핸디스틱청소기       샤오미                   드리미 V10  153216  60.0  220.0\n",
       "20   핸디스틱청소기     DIBEA  23년형 리뉴얼 차이슨 ALLNEW29000  239000  50.0  400.0\n",
       "23   핸디스틱청소기       아이닉            NEW i20 (23년형)  169000  50.0  350.0\n",
       "33   핸디스틱청소기      삼성전자            제트 VS20T92K3QD  412030  60.0  200.0\n",
       "..       ...       ...                       ...     ...   ...    ...\n",
       "922  핸디스틱청소기       샤오미               디어마 VC20 프로  179990  50.0  170.0\n",
       "925  핸디스틱청소기       샤오미                   G10 라이트  338000  45.0  170.0\n",
       "940  핸디스틱청소기  SINOLINK                    V20 프로  166000  45.0  200.0\n",
       "942  핸디스틱청소기       샤오미        미지아 1C SCWXCQ02ZHM  252740  60.0  200.0\n",
       "948  핸디스틱청소기       JDL       tech 타이푼 DV-889DC-X  139000  50.0  200.0\n",
       "\n",
       "[98 rows x 6 columns]"
      ]
     },
     "execution_count": 24,
     "metadata": {},
     "output_type": "execute_result"
    }
   ],
   "source": [
    "# axis=0 -> 행,  axis=1 -> 열\n",
    "df_bestratio.dropna(axis=0)"
   ]
  },
  {
   "cell_type": "code",
   "execution_count": null,
   "metadata": {},
   "outputs": [],
   "source": []
  },
  {
   "cell_type": "code",
   "execution_count": null,
   "metadata": {},
   "outputs": [],
   "source": []
  },
  {
   "cell_type": "code",
   "execution_count": null,
   "metadata": {},
   "outputs": [],
   "source": []
  },
  {
   "cell_type": "code",
   "execution_count": null,
   "metadata": {},
   "outputs": [],
   "source": []
  }
 ],
 "metadata": {
  "kernelspec": {
   "display_name": "Python 3",
   "language": "python",
   "name": "python3"
  },
  "language_info": {
   "codemirror_mode": {
    "name": "ipython",
    "version": 3
   },
   "file_extension": ".py",
   "mimetype": "text/x-python",
   "name": "python",
   "nbconvert_exporter": "python",
   "pygments_lexer": "ipython3",
   "version": "3.11.4"
  },
  "orig_nbformat": 4,
  "vscode": {
   "interpreter": {
    "hash": "5238573367df39f7286bb46f9ff5f08f63a01a80960060ce41e3c79b190280fa"
   }
  }
 },
 "nbformat": 4,
 "nbformat_minor": 2
}
