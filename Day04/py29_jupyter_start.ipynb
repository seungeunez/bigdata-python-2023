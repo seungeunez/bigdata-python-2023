{
 "cells": [
  {
   "attachments": {},
   "cell_type": "markdown",
   "metadata": {},
   "source": [
    "# 주피터 노트북 기본\n",
    "\n",
    "## 셀 추가 / 삭제\n",
    "코드버튼 클릭 - Python 코드 셀 추가\n",
    "Markdown 버튼 클릭 = 마크다운 쉘 추가\n",
    "\n",
    "\n",
    "### 주피터 노트북 대표 단축키\n",
    "- Ctrl + Enter 셀 실행 \n",
    "- Shift + Enter 셀 실행 아래 같은 셀 추가\n",
    "- Enter 현재 셀 진입\n",
    "- ESC 현재 셀 빠져나가기\n",
    "- b 현재 셀 아래 세 셀 추가\n",
    "- a 현재 셀 위 세 셀 추가\n",
    "- m 현재 셀(python) -> 마크다운 셀 변경\n",
    "- y 현재 셀(Markdown) -> 파이선 셀 변경\n",
    "- Shift + L 셀 라인번호 표시 토글"
   ]
  },
  {
   "cell_type": "code",
   "execution_count": 1,
   "metadata": {},
   "outputs": [
    {
     "name": "stdout",
     "output_type": "stream",
     "text": [
      "여기는 파이썬 셀\n"
     ]
    }
   ],
   "source": [
    "print('여기는 파이썬 셀')"
   ]
  },
  {
   "attachments": {},
   "cell_type": "markdown",
   "metadata": {},
   "source": [
    "# 일반출력\n",
    "\n",
    "``` Python\n",
    "\n",
    "print('Hello, Python!') #마크다운 코드추가\n",
    "\n",
    "```\n"
   ]
  },
  {
   "attachments": {},
   "cell_type": "markdown",
   "metadata": {},
   "source": [
    "### 이미지 추가\n",
    "\n",
    "> **인용** 인용\n",
    "\n",
    "\n",
    "<img src=\"https://cdn.pixabay.com/photo/2014/04/13/20/49/cat-323262_1280.jpg\" width=\"400\">\n",
    "\n",
    "<img src=\"https://i0.wp.com/www.printmag.com/wp-content/uploads/2021/02/4cbe8d_f1ed2800a49649848102c68fc5a66e53mv2.gif?resize=476%2C280&ssl=1\" width=\"400\">\n",
    "\n",
    "---\n",
    "\n",
    "|제목|내용|비고|\n",
    "|:----|----------:|:----:|\n",
    "|제목1|내용1|비고1|\n",
    "|제목2|내용2|비고2|\n",
    "|제목3|내용내용내용입니다|비고3|\n",
    "|제목입니다입니다|내용4|비고4이비낟|\n"
   ]
  },
  {
   "attachments": {},
   "cell_type": "markdown",
   "metadata": {},
   "source": [
    "### 주피터 노트북 디버깅\n",
    "\n",
    "\n",
    "- 브레이크 포인트(중단점 클릭)\n",
    "- Ctrl + Shift + Alt + Enter\n",
    "    - py 디버깅과 동일(F10, F11) 사용"
   ]
  },
  {
   "cell_type": "code",
   "execution_count": 2,
   "metadata": {},
   "outputs": [],
   "source": [
    "# 나누기 함수\n",
    "def divide(x, y):\n",
    "    result = ''\n",
    "    try:\n",
    "        result = x // y\n",
    "    except Exception as e:\n",
    "        print(f'예외 발생 : {e}')\n",
    "        \n",
    "    print('나누기 완료')\n",
    "    return result"
   ]
  },
  {
   "cell_type": "code",
   "execution_count": 3,
   "metadata": {},
   "outputs": [
    {
     "name": "stdout",
     "output_type": "stream",
     "text": [
      "예외 발생 : integer division or modulo by zero\n",
      "나누기 완료\n",
      "\n"
     ]
    }
   ],
   "source": [
    "print(divide(7, 0))"
   ]
  },
  {
   "attachments": {},
   "cell_type": "markdown",
   "metadata": {},
   "source": [
    "### 출력 python과 차이점\n",
    "\n",
    "변수를 출력할 때 \n",
    "- 변수명만 입력 후 실행 결과출력\n",
    "- print()도 출력\n",
    "    - 단, 변수만 쓸 때는 제일 마지막 변수만 출력됨\n",
    "    - 여러번 출력하고 싶으면 print() 사용할 것\n",
    "    - 하지만 변수를 그냥 출력할 때랑 print() 출력할 때랑 결과가 다를 수 있다"
   ]
  },
  {
   "cell_type": "code",
   "execution_count": 4,
   "metadata": {},
   "outputs": [
    {
     "data": {
      "text/plain": [
       "'Hello Python!'"
      ]
     },
     "execution_count": 4,
     "metadata": {},
     "output_type": "execute_result"
    }
   ],
   "source": [
    "a = 'Hello Python!'\n",
    "a"
   ]
  },
  {
   "cell_type": "code",
   "execution_count": 5,
   "metadata": {},
   "outputs": [
    {
     "name": "stdout",
     "output_type": "stream",
     "text": [
      "Hello Python!\n",
      "Hello Python!\n"
     ]
    }
   ],
   "source": [
    "print(a)\n",
    "print(a)"
   ]
  },
  {
   "cell_type": "code",
   "execution_count": 6,
   "metadata": {},
   "outputs": [
    {
     "data": {
      "text/plain": [
       "[1, 2, 3, 4, 5]"
      ]
     },
     "execution_count": 6,
     "metadata": {},
     "output_type": "execute_result"
    }
   ],
   "source": [
    "b = [1, 2, 3, 4, 5]\n",
    "b"
   ]
  },
  {
   "cell_type": "code",
   "execution_count": 7,
   "metadata": {},
   "outputs": [
    {
     "name": "stdout",
     "output_type": "stream",
     "text": [
      "[1, 2, 3, 4, 5]\n"
     ]
    }
   ],
   "source": [
    "print(b)"
   ]
  },
  {
   "attachments": {},
   "cell_type": "markdown",
   "metadata": {},
   "source": [
    "#### 경로 문제 해결\n",
    "- .py에서의 파일 경로와 .ipynb 경로가 다름\n",
    "    - .py : ./Day04/dummy_member.csv\n",
    "    - .ipynb : ./dummy_member.csv"
   ]
  },
  {
   "cell_type": "code",
   "execution_count": 8,
   "metadata": {},
   "outputs": [
    {
     "data": {
      "text/html": [
       "<div>\n",
       "<style scoped>\n",
       "    .dataframe tbody tr th:only-of-type {\n",
       "        vertical-align: middle;\n",
       "    }\n",
       "\n",
       "    .dataframe tbody tr th {\n",
       "        vertical-align: top;\n",
       "    }\n",
       "\n",
       "    .dataframe thead th {\n",
       "        text-align: right;\n",
       "    }\n",
       "</style>\n",
       "<table border=\"1\" class=\"dataframe\">\n",
       "  <thead>\n",
       "    <tr style=\"text-align: right;\">\n",
       "      <th></th>\n",
       "      <th>Unnamed: 0</th>\n",
       "      <th>이름</th>\n",
       "      <th>우편번호</th>\n",
       "      <th>주소</th>\n",
       "      <th>전화번호</th>\n",
       "      <th>이메일</th>\n",
       "    </tr>\n",
       "  </thead>\n",
       "  <tbody>\n",
       "    <tr>\n",
       "      <th>0</th>\n",
       "      <td>0</td>\n",
       "      <td>강현숙</td>\n",
       "      <td>66586</td>\n",
       "      <td>세종특별자치시 서구 삼성05가</td>\n",
       "      <td>031-059-4909</td>\n",
       "      <td>songeunjeong@example.com</td>\n",
       "    </tr>\n",
       "    <tr>\n",
       "      <th>1</th>\n",
       "      <td>1</td>\n",
       "      <td>김승민</td>\n",
       "      <td>45498</td>\n",
       "      <td>충청북도 안양시 만안구 압구정4거리 (정호김마을)</td>\n",
       "      <td>017-896-7680</td>\n",
       "      <td>bagseonghyeon@example.org</td>\n",
       "    </tr>\n",
       "    <tr>\n",
       "      <th>2</th>\n",
       "      <td>2</td>\n",
       "      <td>김현지</td>\n",
       "      <td>38665</td>\n",
       "      <td>전라남도 수원시 장안구 도산대1가 (영수김면)</td>\n",
       "      <td>016-191-5720</td>\n",
       "      <td>yeongmigim@example.org</td>\n",
       "    </tr>\n",
       "    <tr>\n",
       "      <th>3</th>\n",
       "      <td>3</td>\n",
       "      <td>김미영</td>\n",
       "      <td>84524</td>\n",
       "      <td>부산광역시 강남구 반포대43로</td>\n",
       "      <td>02-6332-0640</td>\n",
       "      <td>gimjia@example.net</td>\n",
       "    </tr>\n",
       "    <tr>\n",
       "      <th>4</th>\n",
       "      <td>4</td>\n",
       "      <td>고중수</td>\n",
       "      <td>13741</td>\n",
       "      <td>경기도 안양시 만안구 언주길 (정식이황읍)</td>\n",
       "      <td>019-367-8712</td>\n",
       "      <td>gwangsu98@example.net</td>\n",
       "    </tr>\n",
       "    <tr>\n",
       "      <th>5</th>\n",
       "      <td>5</td>\n",
       "      <td>오춘자</td>\n",
       "      <td>67584</td>\n",
       "      <td>전라남도 안산시 봉은사거리 (은경박동)</td>\n",
       "      <td>041-277-2426</td>\n",
       "      <td>ao@example.net</td>\n",
       "    </tr>\n",
       "    <tr>\n",
       "      <th>6</th>\n",
       "      <td>6</td>\n",
       "      <td>이영순</td>\n",
       "      <td>74002</td>\n",
       "      <td>서울특별시 용산구 가락로 (영수강면)</td>\n",
       "      <td>032-375-3062</td>\n",
       "      <td>sanghun60@example.net</td>\n",
       "    </tr>\n",
       "    <tr>\n",
       "      <th>7</th>\n",
       "      <td>7</td>\n",
       "      <td>고지혜</td>\n",
       "      <td>38056</td>\n",
       "      <td>대전광역시 동구 서초대40거리</td>\n",
       "      <td>041-544-6009</td>\n",
       "      <td>seohyeon61@example.net</td>\n",
       "    </tr>\n",
       "    <tr>\n",
       "      <th>8</th>\n",
       "      <td>8</td>\n",
       "      <td>강영순</td>\n",
       "      <td>9767</td>\n",
       "      <td>서울특별시 남구 압구정가</td>\n",
       "      <td>031-485-1496</td>\n",
       "      <td>jeongnam94@example.com</td>\n",
       "    </tr>\n",
       "    <tr>\n",
       "      <th>9</th>\n",
       "      <td>9</td>\n",
       "      <td>류영희</td>\n",
       "      <td>23667</td>\n",
       "      <td>부산광역시 도봉구 학동가</td>\n",
       "      <td>010-2766-8475</td>\n",
       "      <td>coeeunju@example.org</td>\n",
       "    </tr>\n",
       "  </tbody>\n",
       "</table>\n",
       "</div>"
      ],
      "text/plain": [
       "   Unnamed: 0   이름   우편번호                           주소           전화번호  \\\n",
       "0           0  강현숙  66586             세종특별자치시 서구 삼성05가   031-059-4909   \n",
       "1           1  김승민  45498  충청북도 안양시 만안구 압구정4거리 (정호김마을)   017-896-7680   \n",
       "2           2  김현지  38665    전라남도 수원시 장안구 도산대1가 (영수김면)   016-191-5720   \n",
       "3           3  김미영  84524             부산광역시 강남구 반포대43로   02-6332-0640   \n",
       "4           4  고중수  13741      경기도 안양시 만안구 언주길 (정식이황읍)   019-367-8712   \n",
       "5           5  오춘자  67584        전라남도 안산시 봉은사거리 (은경박동)   041-277-2426   \n",
       "6           6  이영순  74002         서울특별시 용산구 가락로 (영수강면)   032-375-3062   \n",
       "7           7  고지혜  38056             대전광역시 동구 서초대40거리   041-544-6009   \n",
       "8           8  강영순   9767                서울특별시 남구 압구정가   031-485-1496   \n",
       "9           9  류영희  23667                부산광역시 도봉구 학동가  010-2766-8475   \n",
       "\n",
       "                         이메일  \n",
       "0   songeunjeong@example.com  \n",
       "1  bagseonghyeon@example.org  \n",
       "2     yeongmigim@example.org  \n",
       "3         gimjia@example.net  \n",
       "4      gwangsu98@example.net  \n",
       "5             ao@example.net  \n",
       "6      sanghun60@example.net  \n",
       "7     seohyeon61@example.net  \n",
       "8     jeongnam94@example.com  \n",
       "9       coeeunju@example.org  "
      ]
     },
     "execution_count": 8,
     "metadata": {},
     "output_type": "execute_result"
    }
   ],
   "source": [
    "import pandas as pd \n",
    "\n",
    "df = pd.read_csv('./dummy_members.csv') # 주의점! 주피터 노트북에서는 같은 폴더에 파일을 읽을 때\n",
    "\n",
    "df"
   ]
  },
  {
   "cell_type": "code",
   "execution_count": 9,
   "metadata": {},
   "outputs": [
    {
     "data": {
      "text/plain": [
       "'c:\\\\Source\\\\bigdata-python-2023\\\\Day04'"
      ]
     },
     "execution_count": 9,
     "metadata": {},
     "output_type": "execute_result"
    }
   ],
   "source": [
    "import os \n",
    "\n",
    "os.getcwd()"
   ]
  },
  {
   "attachments": {},
   "cell_type": "markdown",
   "metadata": {},
   "source": [
    "### 출력 초과 문제\n",
    "\n",
    "콘솔이나 주피터 셀출력 전체가 다 안나오는 현상(성능적 문제때문에 제약)\n",
    "\n",
    "``` Python\n",
    "pd.options.display.max_columns = None\n",
    "pd.options.display.max_rows = None # 1000\n",
    "```"
   ]
  },
  {
   "cell_type": "code",
   "execution_count": 17,
   "metadata": {},
   "outputs": [
    {
     "data": {
      "text/html": [
       "<div>\n",
       "<style scoped>\n",
       "    .dataframe tbody tr th:only-of-type {\n",
       "        vertical-align: middle;\n",
       "    }\n",
       "\n",
       "    .dataframe tbody tr th {\n",
       "        vertical-align: top;\n",
       "    }\n",
       "\n",
       "    .dataframe thead th {\n",
       "        text-align: right;\n",
       "    }\n",
       "</style>\n",
       "<table border=\"1\" class=\"dataframe\">\n",
       "  <thead>\n",
       "    <tr style=\"text-align: right;\">\n",
       "      <th></th>\n",
       "      <th>Unnamed: 0</th>\n",
       "      <th>이름</th>\n",
       "      <th>우편번호</th>\n",
       "      <th>주소</th>\n",
       "      <th>전화번호</th>\n",
       "      <th>이메일</th>\n",
       "    </tr>\n",
       "  </thead>\n",
       "  <tbody>\n",
       "    <tr>\n",
       "      <th>0</th>\n",
       "      <td>0</td>\n",
       "      <td>홍정호</td>\n",
       "      <td>78490</td>\n",
       "      <td>세종특별자치시 강서구 테헤란가</td>\n",
       "      <td>052-678-8463</td>\n",
       "      <td>bagseoyeon@example.net</td>\n",
       "    </tr>\n",
       "    <tr>\n",
       "      <th>1</th>\n",
       "      <td>1</td>\n",
       "      <td>남영숙</td>\n",
       "      <td>13696</td>\n",
       "      <td>인천광역시 은평구 논현0가</td>\n",
       "      <td>051-114-2379</td>\n",
       "      <td>ogyeonghyi@example.net</td>\n",
       "    </tr>\n",
       "    <tr>\n",
       "      <th>2</th>\n",
       "      <td>2</td>\n",
       "      <td>박춘자</td>\n",
       "      <td>13298</td>\n",
       "      <td>전라북도 성남시 서초중앙길</td>\n",
       "      <td>044-029-7031</td>\n",
       "      <td>baejeongung@example.net</td>\n",
       "    </tr>\n",
       "    <tr>\n",
       "      <th>3</th>\n",
       "      <td>3</td>\n",
       "      <td>김정식</td>\n",
       "      <td>17114</td>\n",
       "      <td>제주특별자치도 속초시 서초대57거리</td>\n",
       "      <td>031-475-4919</td>\n",
       "      <td>haeuncoe@example.org</td>\n",
       "    </tr>\n",
       "    <tr>\n",
       "      <th>4</th>\n",
       "      <td>4</td>\n",
       "      <td>류영희</td>\n",
       "      <td>61452</td>\n",
       "      <td>인천광역시 용산구 석촌호수거리</td>\n",
       "      <td>043-060-5145</td>\n",
       "      <td>ogjahan@example.net</td>\n",
       "    </tr>\n",
       "    <tr>\n",
       "      <th>...</th>\n",
       "      <td>...</td>\n",
       "      <td>...</td>\n",
       "      <td>...</td>\n",
       "      <td>...</td>\n",
       "      <td>...</td>\n",
       "      <td>...</td>\n",
       "    </tr>\n",
       "    <tr>\n",
       "      <th>995</th>\n",
       "      <td>995</td>\n",
       "      <td>주민지</td>\n",
       "      <td>91531</td>\n",
       "      <td>경상북도 청주시 상당구 도산대가 (도현허읍)</td>\n",
       "      <td>019-948-4934</td>\n",
       "      <td>minjun04@example.org</td>\n",
       "    </tr>\n",
       "    <tr>\n",
       "      <th>996</th>\n",
       "      <td>996</td>\n",
       "      <td>김서연</td>\n",
       "      <td>24686</td>\n",
       "      <td>광주광역시 송파구 서초중앙로 (예준전박마을)</td>\n",
       "      <td>070-9950-9231</td>\n",
       "      <td>jeonghyi17@example.com</td>\n",
       "    </tr>\n",
       "    <tr>\n",
       "      <th>997</th>\n",
       "      <td>997</td>\n",
       "      <td>서서준</td>\n",
       "      <td>50038</td>\n",
       "      <td>대전광역시 중구 오금로 (채원장김리)</td>\n",
       "      <td>062-647-5303</td>\n",
       "      <td>rgim@example.net</td>\n",
       "    </tr>\n",
       "    <tr>\n",
       "      <th>998</th>\n",
       "      <td>998</td>\n",
       "      <td>오지현</td>\n",
       "      <td>84096</td>\n",
       "      <td>충청북도 안양시 만안구 반포대071거리</td>\n",
       "      <td>043-989-0334</td>\n",
       "      <td>jeongsugno@example.com</td>\n",
       "    </tr>\n",
       "    <tr>\n",
       "      <th>999</th>\n",
       "      <td>999</td>\n",
       "      <td>이영식</td>\n",
       "      <td>82336</td>\n",
       "      <td>인천광역시 관악구 개포길</td>\n",
       "      <td>017-329-7103</td>\n",
       "      <td>iyujin@example.com</td>\n",
       "    </tr>\n",
       "  </tbody>\n",
       "</table>\n",
       "<p>1000 rows × 6 columns</p>\n",
       "</div>"
      ],
      "text/plain": [
       "     Unnamed: 0   이름   우편번호                        주소           전화번호  \\\n",
       "0             0  홍정호  78490          세종특별자치시 강서구 테헤란가   052-678-8463   \n",
       "1             1  남영숙  13696            인천광역시 은평구 논현0가   051-114-2379   \n",
       "2             2  박춘자  13298            전라북도 성남시 서초중앙길   044-029-7031   \n",
       "3             3  김정식  17114       제주특별자치도 속초시 서초대57거리   031-475-4919   \n",
       "4             4  류영희  61452          인천광역시 용산구 석촌호수거리   043-060-5145   \n",
       "..          ...  ...    ...                       ...            ...   \n",
       "995         995  주민지  91531  경상북도 청주시 상당구 도산대가 (도현허읍)   019-948-4934   \n",
       "996         996  김서연  24686  광주광역시 송파구 서초중앙로 (예준전박마을)  070-9950-9231   \n",
       "997         997  서서준  50038      대전광역시 중구 오금로 (채원장김리)   062-647-5303   \n",
       "998         998  오지현  84096     충청북도 안양시 만안구 반포대071거리   043-989-0334   \n",
       "999         999  이영식  82336             인천광역시 관악구 개포길   017-329-7103   \n",
       "\n",
       "                         이메일  \n",
       "0     bagseoyeon@example.net  \n",
       "1     ogyeonghyi@example.net  \n",
       "2    baejeongung@example.net  \n",
       "3       haeuncoe@example.org  \n",
       "4        ogjahan@example.net  \n",
       "..                       ...  \n",
       "995     minjun04@example.org  \n",
       "996   jeonghyi17@example.com  \n",
       "997         rgim@example.net  \n",
       "998   jeongsugno@example.com  \n",
       "999       iyujin@example.com  \n",
       "\n",
       "[1000 rows x 6 columns]"
      ]
     },
     "execution_count": 17,
     "metadata": {},
     "output_type": "execute_result"
    }
   ],
   "source": [
    "# pd.set_option('display.max_columns', None)\n",
    "pd.options.display.max_columns = 10\n",
    "pd.options.display.max_rows = 100\n",
    "\n",
    "data = pd.read_csv('./dummy_members2.csv', encoding='utf-8')\n",
    "\n",
    "data"
   ]
  },
  {
   "cell_type": "code",
   "execution_count": null,
   "metadata": {},
   "outputs": [],
   "source": []
  }
 ],
 "metadata": {
  "kernelspec": {
   "display_name": "Python 3",
   "language": "python",
   "name": "python3"
  },
  "language_info": {
   "codemirror_mode": {
    "name": "ipython",
    "version": 3
   },
   "file_extension": ".py",
   "mimetype": "text/x-python",
   "name": "python",
   "nbconvert_exporter": "python",
   "pygments_lexer": "ipython3",
   "version": "3.11.4"
  },
  "orig_nbformat": 4,
  "vscode": {
   "interpreter": {
    "hash": "5238573367df39f7286bb46f9ff5f08f63a01a80960060ce41e3c79b190280fa"
   }
  }
 },
 "nbformat": 4,
 "nbformat_minor": 2
}
