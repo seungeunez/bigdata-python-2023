{
 "cells": [
  {
   "attachments": {},
   "cell_type": "markdown",
   "metadata": {},
   "source": [
    "#### 제주도 핫플레이스 인스타그램에서 크롤링하기\n",
    "\n",
    "##### matplotlib 한글설정\n",
    "\n",
    "##### 셀레니움 설정"
   ]
  },
  {
   "cell_type": "code",
   "execution_count": 2,
   "metadata": {},
   "outputs": [],
   "source": [
    "import matplotlib\n",
    "# from matplotlib import pyplot as plt\n",
    "import matplotlib.pyplot as plt\n",
    "from matplotlib import font_manager, rc, rcParams\n",
    "import seaborn as sns\n",
    "\n",
    "font_path = 'C:/Windows/Fonts/NanumGothic.ttf'\n",
    "font = font_manager.FontProperties(fname=font_path).get_name() # 'NanumGothic'\n",
    "rc('font', family=font)\n",
    "rcParams['axes.unicode_minus'] = False "
   ]
  },
  {
   "cell_type": "code",
   "execution_count": 7,
   "metadata": {},
   "outputs": [],
   "source": [
    "# 셀레니움\n",
    "# 모듈 임포트\n",
    "from selenium import webdriver\n",
    "\n",
    "driver = webdriver.Chrome()\n",
    "url = 'https://www.instagram.com/explore/tags/%EC%A0%9C%EC%A3%BC%EB%8F%84%EB%A7%9B%EC%A7%91/'\n",
    "driver.get(url)"
   ]
  },
  {
   "attachments": {},
   "cell_type": "markdown",
   "metadata": {},
   "source": [
    "##### 첫번째 게시글 찾아서 클릭하기\n"
   ]
  },
  {
   "cell_type": "code",
   "execution_count": 10,
   "metadata": {},
   "outputs": [],
   "source": [
    "from selenium.webdriver.common.by import By\n",
    "import time\n",
    "\n",
    "def select_first_post(driver):\n",
    "    first = driver.find_elements(By.CLASS_NAME, '_aagw')[0]\n",
    "    first.click()\n",
    "    time.sleep(3)\n",
    "\n",
    "select_first_post(driver)"
   ]
  },
  {
   "attachments": {},
   "cell_type": "markdown",
   "metadata": {},
   "source": [
    "##### 게시글 정보 가져오기"
   ]
  },
  {
   "cell_type": "code",
   "execution_count": 11,
   "metadata": {},
   "outputs": [
    {
     "data": {
      "text/plain": [
       "['dupl._ssunnys(리그램) @aewolzzim제주애월 핫플레이스 \"애월찜\"제주현지인들도 항상 찾아가는 비밀 맛집❗❗ 여행객들도 꼭 가야될 필수코스❗❗좋은 기운 받고 가실분 여기여기 모여라 ❗애월해안도로에 위치한 분위기 깡패 연인 데이트 코스로도 찰떡❗❗매콤한 전복+낙지+ 갈비찜(해물찜)은 술 좋아하는 사람에게는 최고의 안주에 오션뷰는 덤❗❗❗⠀⠀🧒 애월갔으면 무조건 들렀다오자⠀⠀🏠 제주 제주시 애월읍 애월해안로 454-5📞 예약문의 0507-1403-7496..#애월맛집#제주애월맛집#애월해물찜#애월해안도로#애월가볼만한곳#애월해안도로맛집#하귀맛집#제주데이트코스#제주도민맛집#제주현지인맛집#애월맛집추천#제주도맛집#제주시맛집#제주도민맛집추천13시간',\n",
       " '2023-07-11',\n",
       " 0,\n",
       " '애월읍 애월해안로 454-5',\n",
       " ['#애월맛집',\n",
       "  '#제주애월맛집',\n",
       "  '#애월해물찜',\n",
       "  '#애월해안도로',\n",
       "  '#애월가볼만한곳',\n",
       "  '#애월해안도로맛집',\n",
       "  '#하귀맛집',\n",
       "  '#제주데이트코스',\n",
       "  '#제주도민맛집',\n",
       "  '#제주현지인맛집',\n",
       "  '#애월맛집추천',\n",
       "  '#제주도맛집',\n",
       "  '#제주시맛집',\n",
       "  '#제주도민맛집추천13시간']]"
      ]
     },
     "execution_count": 11,
     "metadata": {},
     "output_type": "execute_result"
    }
   ],
   "source": [
    "import re # RegularExpression 정규식 처리 모듈\n",
    "from bs4 import BeautifulSoup\n",
    "import unicodedata  # 유니코드 데이터 처리 모듈\n",
    "\n",
    "def get_content(driver):\n",
    "    # 1. 데이터가져오기\n",
    "    html = driver.page_source\n",
    "    soup = BeautifulSoup(html, 'html.parser')\n",
    "\n",
    "    # 2. 본문내용 찾아오기\n",
    "    try:\n",
    "        content = soup.select('div._a9zr')[0].text   # _a9zr은 추후 변경됨(인스타그램 정책)\n",
    "    except:\n",
    "        content = ''\n",
    "\n",
    "    # 3. 본문내용에서 해시태그 가져오기(정규식 활용)\n",
    "    tags = re.findall(r'#[^\\s#,\\\\]+', content)\n",
    "\n",
    "    # 4. 작성일자 정보\n",
    "    try:\n",
    "        date = soup.select('time._aaqe')[0]['datetime'][:10] # _aaqe은 추후 변경됨(인스타그램 정책)\n",
    "    except:\n",
    "        date = ''\n",
    "\n",
    "    # 5. 좋아요수 가져오기\n",
    "    try:\n",
    "        # x193iq5w등은 추후 변경됨(인스타그램 정책)\n",
    "        like = int(soup.select('span.x193iq5w.xeuugli.x1fj9vlw.x13faqbe.x1vvkbs.xt0psk2.x1i0vuye.xvs91rp > span')[0].text)\n",
    "    except:\n",
    "        like = 0\n",
    "\n",
    "    # 6. 위치정보\n",
    "    # 정규식 학습필수\n",
    "    # _aagv 마지막 인덱스를 찾으면 된다\n",
    "    # imgs = soup.select('div._aatk._aatl._aatm div._aagv > img')[0]['alt']\n",
    "    address = ''\n",
    "    try:\n",
    "        regex = r'(\\w+[시,읍]\\s*)?' \\\n",
    "                r'?(\\w+\\d*\\w*[로,리,길]\\s*)' \\\n",
    "                r'?(\\w*\\d+-?\\d*)?'\n",
    "\n",
    "        place = re.findall(regex, content)\n",
    "        for pl in place:\n",
    "            if pl[0] != '' and pl[1] != '' and pl[2] != '':\n",
    "                address = f'{pl[0]}{pl[1]}{pl[2]}'\n",
    "    except:\n",
    "        address = ''\n",
    "\n",
    "    # 7. 정보 저장\n",
    "    data = [content, date, like, address, tags]\n",
    "    return data\n",
    "\n",
    "get_content(driver)"
   ]
  },
  {
   "cell_type": "code",
   "execution_count": 12,
   "metadata": {},
   "outputs": [],
   "source": [
    "def move_next(driver):\n",
    "    right = driver.find_element(By.CSS_SELECTOR, ('._aaqg._aaqh'))\n",
    "    right.find_element(By.XPATH, '//button')\n",
    "    right.click()\n",
    "    time.sleep(3)\n",
    "\n",
    "move_next(driver)"
   ]
  },
  {
   "attachments": {},
   "cell_type": "markdown",
   "metadata": {},
   "source": [
    "##### 자동 크롤링 구현"
   ]
  },
  {
   "cell_type": "code",
   "execution_count": 13,
   "metadata": {},
   "outputs": [],
   "source": [
    "# 모듈 임포트 생략\n",
    "\n",
    "driver = webdriver.Chrome()\n",
    "driver.get('https://www.instagram.com')\n",
    "time.sleep(2.0)"
   ]
  },
  {
   "cell_type": "code",
   "execution_count": 14,
   "metadata": {},
   "outputs": [],
   "source": [
    "# 아이디, 패스워드 입력해서 자동 로그인하기\n",
    "id = '01036825261'\n",
    "input_id = driver.find_elements(By.CSS_SELECTOR, '._aa4b._add6._ac4d')[0]\n",
    "input_id.clear()\n",
    "input_id.send_keys(id)\n",
    "password = 'cdt92f278*'\n",
    "input_pw = driver.find_elements(By.CSS_SELECTOR, '._aa4b._add6._ac4d')[1]\n",
    "input_pw.clear()\n",
    "input_pw.send_keys(password)\n",
    "input_pw.submit()\n",
    "time.sleep(2.0)"
   ]
  },
  {
   "cell_type": "code",
   "execution_count": 15,
   "metadata": {},
   "outputs": [],
   "source": [
    "# 알림설정 버튼 클릭\n",
    "alarm_btn = driver.find_element(By.CSS_SELECTOR, '._a9--._a9_0')\n",
    "alarm_btn.click()"
   ]
  },
  {
   "cell_type": "code",
   "execution_count": 16,
   "metadata": {},
   "outputs": [],
   "source": [
    "# 제주도맛집 찾기 함수\n",
    "def insta_searching(word):\n",
    "    url = f'https://www.instagram.com/explore/tags/{word}'\n",
    "    return url"
   ]
  },
  {
   "cell_type": "code",
   "execution_count": 17,
   "metadata": {},
   "outputs": [
    {
     "name": "stdout",
     "output_type": "stream",
     "text": [
      "1\n",
      "2\n",
      "3\n",
      "4\n",
      "5\n",
      "6\n",
      "7\n",
      "8\n",
      "9\n",
      "10\n",
      "10\n"
     ]
    }
   ],
   "source": [
    "# 크롤링 시작하기\n",
    "word = '제주도맛집'\n",
    "url = insta_searching(word)\n",
    "driver.get(url)\n",
    "time.sleep(10.0)\n",
    "\n",
    "select_first_post(driver)\n",
    "\n",
    "results = []\n",
    "\n",
    "target = 3\n",
    "count = 0\n",
    "for i in range(target):\n",
    "    count += 1\n",
    "    try:\n",
    "        data = get_content(driver)\n",
    "        results.append(data)\n",
    "        move_next(driver)\n",
    "    except:\n",
    "        time.sleep(2.0)\n",
    "        move_next(driver)\n",
    "    print(count)\n",
    "\n",
    "print(len(results))"
   ]
  },
  {
   "cell_type": "code",
   "execution_count": 18,
   "metadata": {},
   "outputs": [
    {
     "data": {
      "text/html": [
       "<div>\n",
       "<style scoped>\n",
       "    .dataframe tbody tr th:only-of-type {\n",
       "        vertical-align: middle;\n",
       "    }\n",
       "\n",
       "    .dataframe tbody tr th {\n",
       "        vertical-align: top;\n",
       "    }\n",
       "\n",
       "    .dataframe thead th {\n",
       "        text-align: right;\n",
       "    }\n",
       "</style>\n",
       "<table border=\"1\" class=\"dataframe\">\n",
       "  <thead>\n",
       "    <tr style=\"text-align: right;\">\n",
       "      <th></th>\n",
       "      <th>0</th>\n",
       "      <th>1</th>\n",
       "      <th>2</th>\n",
       "      <th>3</th>\n",
       "      <th>4</th>\n",
       "    </tr>\n",
       "  </thead>\n",
       "  <tbody>\n",
       "    <tr>\n",
       "      <th>0</th>\n",
       "      <td>dupl._ssunnys(리그램) @aewolzzim제주애월 핫플레이스 \"애월찜\"제...</td>\n",
       "      <td>2023-07-11</td>\n",
       "      <td>0</td>\n",
       "      <td>애월읍 애월해안로 454-5</td>\n",
       "      <td>[#애월맛집, #제주애월맛집, #애월해물찜, #애월해안도로, #애월가볼만한곳, #애...</td>\n",
       "    </tr>\n",
       "    <tr>\n",
       "      <th>1</th>\n",
       "      <td>dusenvldhtl0291대게! 킹크랩! 홍게까지! 삼위일체 바다 보면서 제대로 ...</td>\n",
       "      <td>2023-07-11</td>\n",
       "      <td>0</td>\n",
       "      <td>제주시 서해안로 638</td>\n",
       "      <td>[#제주도맛집, #제주맛집, #제주도횟집, #제주도대게맛집, #제주도대게, #제주도...</td>\n",
       "    </tr>\n",
       "    <tr>\n",
       "      <th>2</th>\n",
       "      <td>kbk0616귀한 사진 감사합니다🫡뱅기✈️타고 제주도에? 언제?역시 멋짐👍.#Rep...</td>\n",
       "      <td>2023-07-10</td>\n",
       "      <td>800</td>\n",
       "      <td></td>\n",
       "      <td>[#Repost, #숙성도, #마이리틀히어로, #임영웅, #오늘도숙성도하세요., #...</td>\n",
       "    </tr>\n",
       "    <tr>\n",
       "      <th>3</th>\n",
       "      <td>_or_a._nkin_t(광고)제주도에서 쓰끼다시가 가장 잘나오고 서귀포에서 오션뷰...</td>\n",
       "      <td>2023-07-11</td>\n",
       "      <td>0</td>\n",
       "      <td>서귀포시 대포로 16111</td>\n",
       "      <td>[#서귀포맛집, #제주중문맛집, #서귀포횟집, #중문횟집, #제주도횟집, #중문맛집...</td>\n",
       "    </tr>\n",
       "    <tr>\n",
       "      <th>4</th>\n",
       "      <td>lautalia_76(협찬) @cafe_the_light_jeju💗제주도에서 가장 ...</td>\n",
       "      <td>2023-07-11</td>\n",
       "      <td>1054</td>\n",
       "      <td>성산읍 한도로 269</td>\n",
       "      <td>[#제주여행, #제주카페, #성산일출봉카페, #제주카페추천, #제주루프탑카페, #제...</td>\n",
       "    </tr>\n",
       "    <tr>\n",
       "      <th>5</th>\n",
       "      <td>hhh_e_07(리그램) @aewolzzim제주애월 핫플레이스 \"애월찜\"제주현지인들...</td>\n",
       "      <td>2023-07-11</td>\n",
       "      <td>154</td>\n",
       "      <td>애월읍 애월해안로 454-5</td>\n",
       "      <td>[#애월맛집, #제주애월맛집, #애월해물찜, #애월해안도로, #애월가볼만한곳, #애...</td>\n",
       "    </tr>\n",
       "    <tr>\n",
       "      <th>6</th>\n",
       "      <td>foofilll공항근처 흑돼지집은 여기로 가세요. 성공보장입니다.제주도 #공항그때그...</td>\n",
       "      <td>2023-07-07</td>\n",
       "      <td>4075</td>\n",
       "      <td>제주시 서해안로 352-1</td>\n",
       "      <td>[#공항그때그집제주도=흑돼지는, #푸필_제주, #제주도여행, #제주도맛집, #제주맛...</td>\n",
       "    </tr>\n",
       "    <tr>\n",
       "      <th>7</th>\n",
       "      <td>matkook_집 나간 입맛도 돌아오게 만드는 물회. 싱싱한 해산물 배 터지게 먹을...</td>\n",
       "      <td>2023-07-11</td>\n",
       "      <td>990</td>\n",
       "      <td>애월읍 하귀3길 22</td>\n",
       "      <td>[#제주, #애월밤바다📃, #맛국_제주17시간]</td>\n",
       "    </tr>\n",
       "    <tr>\n",
       "      <th>8</th>\n",
       "      <td>jeju_yeongmoks23.07.10.초복을 앞두고 있는 여유가득한 제주의 오늘...</td>\n",
       "      <td>2023-07-10</td>\n",
       "      <td>1140</td>\n",
       "      <td></td>\n",
       "      <td>[#영목이네, #제주갈치맛집영목이네1일]</td>\n",
       "    </tr>\n",
       "    <tr>\n",
       "      <th>9</th>\n",
       "      <td>hohohaha909카레가 귯귯👍 애월바다까지 담은애월 예쁜 카레맛집 🍛 😜#jej...</td>\n",
       "      <td>2023-07-12</td>\n",
       "      <td>0</td>\n",
       "      <td></td>\n",
       "      <td>[#jeju, #애월핫플, #구엄맛집, #애월맛집, #제주공항맛집, #제주카레추천,...</td>\n",
       "    </tr>\n",
       "  </tbody>\n",
       "</table>\n",
       "</div>"
      ],
      "text/plain": [
       "                                                   0           1     2  \\\n",
       "0  dupl._ssunnys(리그램) @aewolzzim제주애월 핫플레이스 \"애월찜\"제...  2023-07-11     0   \n",
       "1  dusenvldhtl0291대게! 킹크랩! 홍게까지! 삼위일체 바다 보면서 제대로 ...  2023-07-11     0   \n",
       "2  kbk0616귀한 사진 감사합니다🫡뱅기✈️타고 제주도에? 언제?역시 멋짐👍.#Rep...  2023-07-10   800   \n",
       "3  _or_a._nkin_t(광고)제주도에서 쓰끼다시가 가장 잘나오고 서귀포에서 오션뷰...  2023-07-11     0   \n",
       "4  lautalia_76(협찬) @cafe_the_light_jeju💗제주도에서 가장 ...  2023-07-11  1054   \n",
       "5  hhh_e_07(리그램) @aewolzzim제주애월 핫플레이스 \"애월찜\"제주현지인들...  2023-07-11   154   \n",
       "6  foofilll공항근처 흑돼지집은 여기로 가세요. 성공보장입니다.제주도 #공항그때그...  2023-07-07  4075   \n",
       "7  matkook_집 나간 입맛도 돌아오게 만드는 물회. 싱싱한 해산물 배 터지게 먹을...  2023-07-11   990   \n",
       "8  jeju_yeongmoks23.07.10.초복을 앞두고 있는 여유가득한 제주의 오늘...  2023-07-10  1140   \n",
       "9  hohohaha909카레가 귯귯👍 애월바다까지 담은애월 예쁜 카레맛집 🍛 😜#jej...  2023-07-12     0   \n",
       "\n",
       "                 3                                                  4  \n",
       "0  애월읍 애월해안로 454-5  [#애월맛집, #제주애월맛집, #애월해물찜, #애월해안도로, #애월가볼만한곳, #애...  \n",
       "1     제주시 서해안로 638  [#제주도맛집, #제주맛집, #제주도횟집, #제주도대게맛집, #제주도대게, #제주도...  \n",
       "2                   [#Repost, #숙성도, #마이리틀히어로, #임영웅, #오늘도숙성도하세요., #...  \n",
       "3   서귀포시 대포로 16111  [#서귀포맛집, #제주중문맛집, #서귀포횟집, #중문횟집, #제주도횟집, #중문맛집...  \n",
       "4      성산읍 한도로 269  [#제주여행, #제주카페, #성산일출봉카페, #제주카페추천, #제주루프탑카페, #제...  \n",
       "5  애월읍 애월해안로 454-5  [#애월맛집, #제주애월맛집, #애월해물찜, #애월해안도로, #애월가볼만한곳, #애...  \n",
       "6   제주시 서해안로 352-1  [#공항그때그집제주도=흑돼지는, #푸필_제주, #제주도여행, #제주도맛집, #제주맛...  \n",
       "7      애월읍 하귀3길 22                         [#제주, #애월밤바다📃, #맛국_제주17시간]  \n",
       "8                                              [#영목이네, #제주갈치맛집영목이네1일]  \n",
       "9                   [#jeju, #애월핫플, #구엄맛집, #애월맛집, #제주공항맛집, #제주카레추천,...  "
      ]
     },
     "execution_count": 18,
     "metadata": {},
     "output_type": "execute_result"
    }
   ],
   "source": [
    "import pandas as pd\n",
    "df = pd.DataFrame(results)\n",
    "df"
   ]
  },
  {
   "cell_type": "code",
   "execution_count": 19,
   "metadata": {},
   "outputs": [],
   "source": [
    "import pandas as pd\n",
    "\n",
    "results_df = pd.DataFrame(results)\n",
    "results_df.columns = ['content','data','like','place','tags']\n",
    "results_df.to_excel('./1_crawling_jejudoHotplaces.xlsx', index=False)"
   ]
  }
 ],
 "metadata": {
  "kernelspec": {
   "display_name": "Python 3",
   "language": "python",
   "name": "python3"
  },
  "language_info": {
   "codemirror_mode": {
    "name": "ipython",
    "version": 3
   },
   "file_extension": ".py",
   "mimetype": "text/x-python",
   "name": "python",
   "nbconvert_exporter": "python",
   "pygments_lexer": "ipython3",
   "version": "3.11.4"
  },
  "orig_nbformat": 4,
  "vscode": {
   "interpreter": {
    "hash": "5238573367df39f7286bb46f9ff5f08f63a01a80960060ce41e3c79b190280fa"
   }
  }
 },
 "nbformat": 4,
 "nbformat_minor": 2
}
